{
  "nbformat": 4,
  "nbformat_minor": 0,
  "metadata": {
    "kernelspec": {
      "name": "python3",
      "display_name": "Python 3"
    },
    "language_info": {
      "codemirror_mode": {
        "name": "ipython",
        "version": 3
      },
      "file_extension": ".py",
      "mimetype": "text/x-python",
      "name": "python",
      "nbconvert_exporter": "python",
      "pygments_lexer": "ipython3",
      "version": "3.6.10"
    },
    "toc": {
      "base_numbering": 1,
      "nav_menu": {},
      "number_sections": true,
      "sideBar": true,
      "skip_h1_title": false,
      "title_cell": "Table of Contents",
      "title_sidebar": "Contents",
      "toc_cell": false,
      "toc_position": {},
      "toc_section_display": true,
      "toc_window_display": false
    },
    "colab": {
      "name": "CS437_DL_PA3_PartB (1).ipynb",
      "provenance": [],
      "collapsed_sections": []
    },
    "accelerator": "GPU"
  },
  "cells": [
    {
      "cell_type": "markdown",
      "metadata": {
        "id": "51drijF7b9Nn",
        "colab_type": "text"
      },
      "source": [
        "# Homework 3  - Part B\n",
        "\n",
        "\n",
        "###### Roll Number:"
      ]
    },
    {
      "cell_type": "code",
      "metadata": {
        "id": "HtQZZ_mbclIW",
        "colab_type": "code",
        "outputId": "d7a9c992-7bbe-40e0-c2d5-902d373efe58",
        "colab": {
          "base_uri": "https://localhost:8080/",
          "height": 122
        }
      },
      "source": [
        "from google.colab import drive\n",
        "drive.mount('/content/drive')"
      ],
      "execution_count": 1,
      "outputs": [
        {
          "output_type": "stream",
          "text": [
            "Go to this URL in a browser: https://accounts.google.com/o/oauth2/auth?client_id=947318989803-6bn6qk8qdgf4n4g3pfee6491hc0brc4i.apps.googleusercontent.com&redirect_uri=urn%3aietf%3awg%3aoauth%3a2.0%3aoob&response_type=code&scope=email%20https%3a%2f%2fwww.googleapis.com%2fauth%2fdocs.test%20https%3a%2f%2fwww.googleapis.com%2fauth%2fdrive%20https%3a%2f%2fwww.googleapis.com%2fauth%2fdrive.photos.readonly%20https%3a%2f%2fwww.googleapis.com%2fauth%2fpeopleapi.readonly\n",
            "\n",
            "Enter your authorization code:\n",
            "··········\n",
            "Mounted at /content/drive\n"
          ],
          "name": "stdout"
        }
      ]
    },
    {
      "cell_type": "code",
      "metadata": {
        "id": "R-mocORDdH8j",
        "colab_type": "code",
        "colab": {}
      },
      "source": [
        "import zipfile\n",
        "zip_ref = zipfile.ZipFile('/content/drive/My Drive/cifar.zip','r')\n",
        "zip_ref.extractall('/content/images')\n",
        "zip_ref.close()"
      ],
      "execution_count": 0,
      "outputs": []
    },
    {
      "cell_type": "markdown",
      "metadata": {
        "id": "pYUCF2grb9Nt",
        "colab_type": "text"
      },
      "source": [
        "We'll start Part B by taking out a minute to thank creators of Tensorflow and Keras for making our lives easier. The goal of this home work is to design a convolutional neural network to classify images from CIFAR-10. CIFAR-10 is a subset of CIFAR-100 with 10 and 100 being number of classes. They were collected by Alex Krizhevsky, Vinod Nair, and Geoffrey Hinton. We'll be building small CNNs using Keras to solve this classification task.\n",
        "<br>\n",
        "\n",
        "Please note:\n",
        "- You have to save each trained model weights and tensorboard logs in different folder. Use proper names for the model\n",
        "- You have to show trainings in this notebook file, so make sure that the printings and figures are available on this notebook file\n",
        "- This notebook is also your report file. So add your comments and analysis of each task. Your comments and analysis are as important as your code. This would be considered short report and it is compulsory part of the homework.\n",
        "- Your system memory may overflow. In that case, please reset memory for trained model(s) keeping printed logs and history of trained model. History of all trained models could be used to plot the trends.\n",
        "- For trends you shall also use tensorboard logs "
      ]
    },
    {
      "cell_type": "markdown",
      "metadata": {
        "id": "vQC1OvBJb9Nv",
        "colab_type": "text"
      },
      "source": [
        "### Imports"
      ]
    },
    {
      "cell_type": "code",
      "metadata": {
        "id": "Dcxo-7Lhb9Ny",
        "colab_type": "code",
        "colab": {
          "base_uri": "https://localhost:8080/",
          "height": 80
        },
        "outputId": "12f01c92-efad-437f-e326-4629fc703722"
      },
      "source": [
        "import keras\n",
        "from keras.models import Model\n",
        "from keras.layers import Dense, Input, Conv2D, MaxPooling2D, Dropout, Flatten, BatchNormalization\n",
        "from keras.optimizers import Adam\n",
        "from keras.callbacks import ModelCheckpoint, EarlyStopping, CSVLogger, ReduceLROnPlateau, TensorBoard\n",
        "from keras.utils import plot_model, to_categorical\n",
        "import keras.backend as K\n",
        "\n",
        "from sklearn.model_selection import train_test_split\n",
        "from IPython.display import display\n",
        "\n",
        "import skimage\n",
        "from skimage.io import imread\n",
        "from skimage.io import imshow\n",
        "from skimage.transform import resize\n",
        "\n",
        "import cv2\n",
        "import numpy as np\n",
        "import pandas as pd\n",
        "%matplotlib inline\n",
        "import matplotlib.pyplot as plt\n",
        "plt.style.use('seaborn')\n",
        "\n",
        "import os\n",
        "import glob\n",
        "your_id = 21100086\n",
        "np.random.seed(your_id)"
      ],
      "execution_count": 3,
      "outputs": [
        {
          "output_type": "stream",
          "text": [
            "Using TensorFlow backend.\n"
          ],
          "name": "stderr"
        },
        {
          "output_type": "display_data",
          "data": {
            "text/html": [
              "<p style=\"color: red;\">\n",
              "The default version of TensorFlow in Colab will soon switch to TensorFlow 2.x.<br>\n",
              "We recommend you <a href=\"https://www.tensorflow.org/guide/migrate\" target=\"_blank\">upgrade</a> now \n",
              "or ensure your notebook will continue to use TensorFlow 1.x via the <code>%tensorflow_version 1.x</code> magic:\n",
              "<a href=\"https://colab.research.google.com/notebooks/tensorflow_version.ipynb\" target=\"_blank\">more info</a>.</p>\n"
            ],
            "text/plain": [
              "<IPython.core.display.HTML object>"
            ]
          },
          "metadata": {
            "tags": []
          }
        }
      ]
    },
    {
      "cell_type": "markdown",
      "metadata": {
        "heading_collapsed": true,
        "id": "-QB55cp3b9N_",
        "colab_type": "text"
      },
      "source": [
        "###### Hyperparameters"
      ]
    },
    {
      "cell_type": "code",
      "metadata": {
        "hidden": true,
        "id": "9EPrbTDKb9OB",
        "colab_type": "code",
        "colab": {}
      },
      "source": [
        "batch_size = 64\n",
        "num_classes = 10\n",
        "class_labels = np.arange(0, num_classes, 1)\n",
        "input_shape_cifar = (32,32,3)\n",
        "images_dir = './images/cifar/'\n",
        "epochs = 25\n",
        "all_histories = []"
      ],
      "execution_count": 0,
      "outputs": []
    },
    {
      "cell_type": "markdown",
      "metadata": {
        "id": "eoCzPJItb9OP",
        "colab_type": "text"
      },
      "source": [
        "### Task 1.1   Load dataset information\n",
        "Download the [CIFAR-10 Dataset](https://drive.google.com/drive/folders/1FPsts3C2tJMVQ1xcCi2XZdb2z_J2OjSr?usp=sharing) and setup your working directory. Be sure to put the dataset in the <code>images_dir</code> directory. We won't be loading images and will only store the file paths in memory. These file paths will be used to load and return batch of images in our generator. Feel free to explore the dataset in this section."
      ]
    },
    {
      "cell_type": "code",
      "metadata": {
        "id": "bfhWApY9b9OS",
        "colab_type": "code",
        "outputId": "73e851dc-050f-4d7e-d2ec-7dfb61073053",
        "colab": {
          "base_uri": "https://localhost:8080/",
          "height": 51
        }
      },
      "source": [
        "train_dir = images_dir + 'train/'\n",
        "test_dir = images_dir + 'test/'\n",
        "label_dir = images_dir + 'labels.txt'\n",
        "\n",
        "# Use either os.listdir or glob to generate an array of file paths for training and testing data (I would recommend using glob)\n",
        "#train_files = glob.glob('C:/Users/Ghazi Khan/Desktop/images_dir/cifar/train/**/*',  \n",
        "#                   recursive = True) \n",
        "train_files=np.array(glob.glob(train_dir+'/*'))\n",
        "print(train_files.shape)\n",
        "\n",
        "#test_files = glob.glob('C:/Users/Ghazi Khan/Desktop/images_dir/cifar/test/**/*',  \n",
        "#                        recursive = True) \n",
        "test_files=np.array(glob.glob(test_dir+'/*'))\n",
        "print(test_files.shape)\n",
        "'''\n",
        "print(train_files[1])\n",
        "img=skimage.io.imread(train_files[1])\n",
        "label=train_files[1].split('_')[2].split('.')[0]\n",
        "print(label)\n",
        "skimage.io.imshow(img)\n",
        "index = (data_generator(train_files, 5, True))\n",
        "    \n",
        "'''\n",
        "#index = (data_generator(train_files, 32, True))\n",
        "#index = (data_generator(train_files, 32, True))\n",
        "#index = (data_generator(train_files, 1, True))\n",
        "\n",
        "# Use labels.txt to store labels in an array/dict (NOTE: The line number corresponds to the actual label)\n",
        "classes = ['airplane', 'automobile', 'bird', 'cat', 'deer', 'dog', 'frog', 'horse', 'ship', 'truck']\n",
        "\n",
        "# Use sci-kit learn's train_test_split method to generate a validation dataset from the training dataset\n",
        "train_files,val_files =train_test_split(train_files,test_size=0.1,random_state=41) "
      ],
      "execution_count": 5,
      "outputs": [
        {
          "output_type": "stream",
          "text": [
            "(50000,)\n",
            "(10000,)\n"
          ],
          "name": "stdout"
        }
      ]
    },
    {
      "cell_type": "code",
      "metadata": {
        "id": "n3dJgHYnb9Om",
        "colab_type": "code",
        "outputId": "ddc5bd72-6a8c-440b-93fb-963ab2e530ed",
        "colab": {
          "base_uri": "https://localhost:8080/",
          "height": 34
        }
      },
      "source": [
        "x,y = next(index)\n",
        "print(y)\n"
      ],
      "execution_count": 0,
      "outputs": [
        {
          "output_type": "stream",
          "text": [
            "[3 2 9 0 6 5 9 4 0 0 6 6 1 6 5 1 6 0 8 8 3 3 7 4 2 4 8 5 5 2 1 3]\n"
          ],
          "name": "stdout"
        }
      ]
    },
    {
      "cell_type": "markdown",
      "metadata": {
        "id": "msEIXOwPb9PK",
        "colab_type": "text"
      },
      "source": [
        "### Task 1.2 Preprocessing\n",
        "Preprocessing of data such as normalization, mean shift, make the learning task simple for network and could accelerate the training process. "
      ]
    },
    {
      "cell_type": "markdown",
      "metadata": {
        "id": "fyAOWg9vb9PM",
        "colab_type": "text"
      },
      "source": [
        "###### Task 1.2.1 \n",
        "In images, pixel values range from 0 to 255. To shift the values between (0,1) range, divide input image by 255."
      ]
    },
    {
      "cell_type": "code",
      "metadata": {
        "id": "qkUUtPtOb9PR",
        "colab_type": "code",
        "colab": {}
      },
      "source": [
        "def preprocessing_norm(images):\n",
        "    return np.divide(images,255)\n",
        "    pass"
      ],
      "execution_count": 0,
      "outputs": []
    },
    {
      "cell_type": "markdown",
      "metadata": {
        "id": "9SeDtcrMb9PW",
        "colab_type": "text"
      },
      "source": [
        "###### Task 1.2.2\n",
        "Compute the channel-wise mean and standard deviation (std). Subtract channel-wise mean and divide by channel-wise std. This will shift the mean to zero and variation to 1 for each channel. "
      ]
    },
    {
      "cell_type": "code",
      "metadata": {
        "id": "_wb77QB5b9PY",
        "colab_type": "code",
        "colab": {}
      },
      "source": [
        "def preprocessing_meanShift(images):\n",
        "    means = np.mean(images,axis=(0,1))\n",
        "    stds=np.std(images,axis=(0,1))\n",
        "    return ((images-means)/stds)\n",
        "    pass"
      ],
      "execution_count": 0,
      "outputs": []
    },
    {
      "cell_type": "markdown",
      "metadata": {
        "id": "vnxt0kZRb9Pd",
        "colab_type": "text"
      },
      "source": [
        "### Task 1.3  Batch Generator\n",
        "Previously, when training our models, we were loading the complete data in memory to fit our model. However, in practice we're working with very large datasets which cannot be loaded all at once in memory. As a solution, we use \"Data Generators\" which are essentially python generators that load batches of data from disk into memory and pass into our models. In order to achieve this, we only store filepaths that point to training/test samples in our dataset in memory. A data generator yields a tuple of (Xs,Ys) whenever the generator is used via the next() function. Implementation of a data generator is open ended, you can add whatever arguments you find necessary in addition to the ones provided."
      ]
    },
    {
      "cell_type": "code",
      "metadata": {
        "id": "vWVhxIulb9Pe",
        "colab_type": "code",
        "colab": {}
      },
      "source": [
        "def data_generator( x , batch_size = 32, preprocessing = None):\n",
        "  while True:\n",
        "    batch=[]\n",
        "    lab=[]\n",
        "    k=53\n",
        "    for i in range(len(x)):\n",
        "        #img=skimage.io.imread(x[i])\n",
        "        img=cv2.imread(x[i])\n",
        "        #img=preprocessing_norm(img)\n",
        "        #img=img.reshape(32,32,3)\n",
        "        label=x[i].split('_')[1].split('.')[0]\n",
        "        if label=='airplane':\n",
        "          k=0\n",
        "        elif label=='automobile':\n",
        "          k=1\n",
        "        elif label=='bird':\n",
        "          k=2\n",
        "        elif label=='cat':\n",
        "          k=3\n",
        "        elif label=='deer':\n",
        "          k=4\n",
        "        elif label=='dog':\n",
        "          k=5\n",
        "        elif label=='frog':\n",
        "          k=6\n",
        "        elif label=='horse':\n",
        "          k=7\n",
        "        elif label=='ship':\n",
        "          k=8\n",
        "        elif label=='truck':\n",
        "          k=9\n",
        "        #tup=(img,k)\n",
        "        batch.append(img)\n",
        "        lab.append(k)\n",
        "        if (len(batch)==batch_size):\n",
        "            if preprocessing=='Norm':\n",
        "              batch=preprocessing_norm(batch)\n",
        "\n",
        "            j=np.array(batch)\n",
        "            k=np.array(lab)\n",
        "            k = to_categorical(k, num_classes)\n",
        "            yield (j,k)\n",
        "            batch=[]\n",
        "            lab=[]\n",
        "        \n",
        "    \n",
        "  "
      ],
      "execution_count": 0,
      "outputs": []
    },
    {
      "cell_type": "markdown",
      "metadata": {
        "id": "_rZ5o59Pb9Pl",
        "colab_type": "text"
      },
      "source": [
        "### Task 1.4 Design CNN model\n",
        "**IMPORTANT**: For each model you create, you need to conduct analysis in a markdown cell below the code cell containing the model's training. Your analysis should include plots, comments on its accuracy/loss, etc. Try to predict images and see what images your model is correctly classifying, see if your model is overfitting or not. For each layer you add, specify its function and then comment on its results."
      ]
    },
    {
      "cell_type": "code",
      "metadata": {
        "id": "2ZwO328Rb9Pp",
        "colab_type": "code",
        "outputId": "b66d3e39-dc5a-445a-eb48-6bf256793247",
        "colab": {
          "base_uri": "https://localhost:8080/",
          "height": 54
        }
      },
      "source": [
        "# Design a CNN to predict classes for the images in the dataset. Try to keep your network shallow since you'll be training your model on your PC as well.\n",
        "#input_img = Input(shape=(), name='input_img')\n",
        "input_img = Input(shape=(input_shape_cifar), name='input_img')\n",
        "#l = Conv2D(64, kernel_size=(3,3), activation='relu')(input_img)\n",
        "l = Conv2D(64, kernel_size=(3,3),strides=(2,2),activation='relu', name= 'conv2d_1')(input_img)\n",
        "#l = Conv2D(32, (3, 3), activation='relu')(l)\n",
        "l = Conv2D(32, (3, 3),strides=(2,2),activation='relu', name= 'conv2d_2')(l)\n",
        "l = Conv2D(16, (3, 3),strides=(2,2),activation='relu')(l)\n",
        "l = Flatten()(l)\n",
        "#l = Dense(128, activation='relu')(l)\n",
        "l = Dense(32, activation='relu')(l)\n",
        "output_class = Dense(num_classes, activation='softmax')(l)\n",
        "model_initial = Model(inputs=input_img, outputs=output_class)\n",
        "'''model = Sequential()\n",
        "#add model layers\n",
        "model.add(Conv2D(64, kernel_size=3, activation=’relu’, input_shape=(28,28,1)))\n",
        "model.add(Conv2D(32, kernel_size=3, activation=’relu’))\n",
        "model.add(Flatten())\n",
        "model.add(Dense(10, activation=’softmax’))'''\n"
      ],
      "execution_count": 60,
      "outputs": [
        {
          "output_type": "execute_result",
          "data": {
            "text/plain": [
              "'model = Sequential()\\n#add model layers\\nmodel.add(Conv2D(64, kernel_size=3, activation=’relu’, input_shape=(28,28,1)))\\nmodel.add(Conv2D(32, kernel_size=3, activation=’relu’))\\nmodel.add(Flatten())\\nmodel.add(Dense(10, activation=’softmax’))'"
            ]
          },
          "metadata": {
            "tags": []
          },
          "execution_count": 60
        }
      ]
    },
    {
      "cell_type": "markdown",
      "metadata": {
        "id": "djMfHYbhb9Pv",
        "colab_type": "text"
      },
      "source": [
        "#### Compile model and plot"
      ]
    },
    {
      "cell_type": "code",
      "metadata": {
        "id": "z-Tc_1JVb9Pw",
        "colab_type": "code",
        "colab": {}
      },
      "source": [
        "model_name = 'base_model'\n",
        "\n",
        "if not os.path.exists('./'+model_name):\n",
        "    os.mkdir(model_name)\n",
        "   "
      ],
      "execution_count": 0,
      "outputs": []
    },
    {
      "cell_type": "code",
      "metadata": {
        "id": "4SeGlNuBb9P4",
        "colab_type": "code",
        "colab": {
          "base_uri": "https://localhost:8080/",
          "height": 105
        },
        "outputId": "36cf336e-8fca-4f9a-af4c-b945caecc869"
      },
      "source": [
        " # You may tweak the learning rate\n",
        "adam = Adam(lr=0.001)\n",
        "\n",
        "# Use the appropriate loss function and compile the model\n",
        "model_initial.compile(loss='categorical_crossentropy', \n",
        "              optimizer=adam, \n",
        "              metrics=['accuracy'])"
      ],
      "execution_count": 15,
      "outputs": [
        {
          "output_type": "stream",
          "text": [
            "WARNING:tensorflow:From /usr/local/lib/python3.6/dist-packages/keras/optimizers.py:793: The name tf.train.Optimizer is deprecated. Please use tf.compat.v1.train.Optimizer instead.\n",
            "\n",
            "WARNING:tensorflow:From /usr/local/lib/python3.6/dist-packages/keras/backend/tensorflow_backend.py:3576: The name tf.log is deprecated. Please use tf.math.log instead.\n",
            "\n"
          ],
          "name": "stdout"
        }
      ]
    },
    {
      "cell_type": "code",
      "metadata": {
        "id": "Cgb0qfQ2b9QA",
        "colab_type": "code",
        "outputId": "4d0d2808-7063-4f26-f264-c949aab1e8b9",
        "colab": {
          "base_uri": "https://localhost:8080/",
          "height": 661
        }
      },
      "source": [
        "plot_model(model_initial, model_name+'/'+model_name+'.png')"
      ],
      "execution_count": 16,
      "outputs": [
        {
          "output_type": "execute_result",
          "data": {
            "image/png": "[encoded data removed]",
            "text/plain": [
              "<IPython.core.display.Image object>"
            ]
          },
          "metadata": {
            "tags": []
          },
          "execution_count": 16
        }
      ]
    },
    {
      "cell_type": "code",
      "metadata": {
        "id": "P_HQ8clSb9QN",
        "colab_type": "code",
        "outputId": "ee58d84e-8217-441d-ed6d-d88c3761c1e2",
        "colab": {
          "base_uri": "https://localhost:8080/",
          "height": 391
        }
      },
      "source": [
        "model_initial.summary()"
      ],
      "execution_count": 17,
      "outputs": [
        {
          "output_type": "stream",
          "text": [
            "Model: \"model_5\"\n",
            "_________________________________________________________________\n",
            "Layer (type)                 Output Shape              Param #   \n",
            "=================================================================\n",
            "input_img (InputLayer)       (None, 32, 32, 3)         0         \n",
            "_________________________________________________________________\n",
            "conv2d_1 (Conv2D)            (None, 15, 15, 64)        1792      \n",
            "_________________________________________________________________\n",
            "conv2d_2 (Conv2D)            (None, 7, 7, 32)          18464     \n",
            "_________________________________________________________________\n",
            "conv2d_5 (Conv2D)            (None, 3, 3, 16)          4624      \n",
            "_________________________________________________________________\n",
            "flatten_5 (Flatten)          (None, 144)               0         \n",
            "_________________________________________________________________\n",
            "dense_9 (Dense)              (None, 32)                4640      \n",
            "_________________________________________________________________\n",
            "dense_10 (Dense)             (None, 10)                330       \n",
            "=================================================================\n",
            "Total params: 29,850\n",
            "Trainable params: 29,850\n",
            "Non-trainable params: 0\n",
            "_________________________________________________________________\n"
          ],
          "name": "stdout"
        }
      ]
    },
    {
      "cell_type": "markdown",
      "metadata": {
        "id": "KCQfjuVbb9QX",
        "colab_type": "text"
      },
      "source": [
        "#### Task 1.5 Training model\n",
        "In order to train the model, instead of \"model.fit\" function, we will use the \"model.fit_generator\" function for training. For details check out [keras documentation](https://keras.io/models/sequential/)"
      ]
    },
    {
      "cell_type": "code",
      "metadata": {
        "id": "najtNsSXb9Qa",
        "colab_type": "code",
        "colab": {}
      },
      "source": [
        "class LRTensorBoard(TensorBoard):\n",
        "    def __init__(self, *args, **kwargs):\n",
        "        super(LRTensorBoard, self).__init__(*args, **kwargs)\n",
        "\n",
        "    def on_epoch_end(self, epoch, logs=None):\n",
        "        logs.update({'lr': K.eval(self.model.optimizer.lr)})\n",
        "        super(LRTensorBoard, self).on_epoch_end(epoch, logs)"
      ],
      "execution_count": 0,
      "outputs": []
    },
    {
      "cell_type": "code",
      "metadata": {
        "id": "ifQ3clT4b9Qj",
        "colab_type": "code",
        "colab": {}
      },
      "source": [
        "# Add the following callbacks to your Model: ModelCheckpoin, CSVLogger, ReduceLROnPlateau. The callback for Tensorboard has already been provided to you.\n",
        "checkpoint = ModelCheckpoint(model_name+'/'+model_name+'-{epoch:02d}-{val_loss:.2f}.h5', \n",
        "                             monitor='val_loss', verbose=1, save_best_only=True, mode='auto')\n",
        "csvlogger = CSVLogger(model_name+'/logs.csv', separator=',', append=True)\n",
        "reducelr = ReduceLROnPlateau(monitor='val_loss', factor=0.2, patience=3, min_lr=0.000001, min_delta=0.03)\n",
        "tensorboard = LRTensorBoard(log_dir='./'+model_name, histogram_freq=0, write_graph=True, write_grads=1, \n",
        "                            batch_size=batch_size, write_images=True)\n",
        "\n",
        "callbacks = [checkpoint, tensorboard, csvlogger, reducelr]"
      ],
      "execution_count": 0,
      "outputs": []
    },
    {
      "cell_type": "markdown",
      "metadata": {
        "id": "Q4kaCpEeb9Qt",
        "colab_type": "text"
      },
      "source": [
        "#### Task 1.5.1 \n",
        "Train model without using any pre-processing scheme"
      ]
    },
    {
      "cell_type": "code",
      "metadata": {
        "id": "3aDrAI65b9Qu",
        "colab_type": "code",
        "colab": {}
      },
      "source": [
        "# Create three generators: For training your model, for validation, for testing.\n",
        "train_gen=data_generator(train_files,batch_size,None)\n",
        "test_gen=data_generator(test_files,batch_size,None)\n",
        "val_gen=data_generator(val_files,batch_size,None)\n",
        "vald,valt=next(val_gen)\n"
      ],
      "execution_count": 0,
      "outputs": []
    },
    {
      "cell_type": "code",
      "metadata": {
        "scrolled": true,
        "id": "dZAIURoFb9Q2",
        "colab_type": "code",
        "outputId": "ece0ed9b-52fd-4ae0-ccfe-06e9992c705a",
        "colab": {
          "base_uri": "https://localhost:8080/",
          "height": 1000
        }
      },
      "source": [
        "# Start training your model here\n",
        "hist_initial = model_initial.fit_generator(train_gen, epochs=epochs, steps_per_epoch=(len(train_files)//batch_size),\n",
        "                           validation_data=(vald,valt),validation_steps=(len(val_files)//batch_size),\n",
        "                           callbacks=callbacks, verbose=1)\n",
        "\n",
        "all_histories.append(hist_initial)"
      ],
      "execution_count": 21,
      "outputs": [
        {
          "output_type": "stream",
          "text": [
            "WARNING:tensorflow:From /usr/local/lib/python3.6/dist-packages/tensorflow_core/python/ops/math_grad.py:1424: where (from tensorflow.python.ops.array_ops) is deprecated and will be removed in a future version.\n",
            "Instructions for updating:\n",
            "Use tf.where in 2.0, which has the same broadcast rule as np.where\n",
            "WARNING:tensorflow:From /usr/local/lib/python3.6/dist-packages/keras/backend/tensorflow_backend.py:1033: The name tf.assign_add is deprecated. Please use tf.compat.v1.assign_add instead.\n",
            "\n",
            "WARNING:tensorflow:From /usr/local/lib/python3.6/dist-packages/keras/backend/tensorflow_backend.py:1020: The name tf.assign is deprecated. Please use tf.compat.v1.assign instead.\n",
            "\n",
            "WARNING:tensorflow:From /usr/local/lib/python3.6/dist-packages/keras/backend/tensorflow_backend.py:3005: The name tf.Session is deprecated. Please use tf.compat.v1.Session instead.\n",
            "\n",
            "WARNING:tensorflow:From /usr/local/lib/python3.6/dist-packages/keras/backend/tensorflow_backend.py:190: The name tf.get_default_session is deprecated. Please use tf.compat.v1.get_default_session instead.\n",
            "\n",
            "WARNING:tensorflow:From /usr/local/lib/python3.6/dist-packages/keras/backend/tensorflow_backend.py:197: The name tf.ConfigProto is deprecated. Please use tf.compat.v1.ConfigProto instead.\n",
            "\n",
            "WARNING:tensorflow:From /usr/local/lib/python3.6/dist-packages/keras/backend/tensorflow_backend.py:207: The name tf.global_variables is deprecated. Please use tf.compat.v1.global_variables instead.\n",
            "\n",
            "WARNING:tensorflow:From /usr/local/lib/python3.6/dist-packages/keras/backend/tensorflow_backend.py:216: The name tf.is_variable_initialized is deprecated. Please use tf.compat.v1.is_variable_initialized instead.\n",
            "\n",
            "WARNING:tensorflow:From /usr/local/lib/python3.6/dist-packages/keras/backend/tensorflow_backend.py:223: The name tf.variables_initializer is deprecated. Please use tf.compat.v1.variables_initializer instead.\n",
            "\n",
            "WARNING:tensorflow:From /usr/local/lib/python3.6/dist-packages/keras/callbacks.py:1122: The name tf.summary.merge_all is deprecated. Please use tf.compat.v1.summary.merge_all instead.\n",
            "\n",
            "WARNING:tensorflow:From /usr/local/lib/python3.6/dist-packages/keras/callbacks.py:1125: The name tf.summary.FileWriter is deprecated. Please use tf.compat.v1.summary.FileWriter instead.\n",
            "\n",
            "Epoch 1/25\n",
            "703/703 [==============================] - 16s 22ms/step - loss: 2.4565 - acc: 0.1276 - val_loss: 2.1669 - val_acc: 0.1562\n",
            "\n",
            "Epoch 00001: val_loss improved from inf to 2.16690, saving model to base_model/base_model-01-2.17.h5\n",
            "WARNING:tensorflow:From /usr/local/lib/python3.6/dist-packages/keras/callbacks.py:1265: The name tf.Summary is deprecated. Please use tf.compat.v1.Summary instead.\n",
            "\n",
            "Epoch 2/25\n",
            "703/703 [==============================] - 9s 13ms/step - loss: 1.8851 - acc: 0.2963 - val_loss: 1.5434 - val_acc: 0.5312\n",
            "\n",
            "Epoch 00002: val_loss improved from 2.16690 to 1.54336, saving model to base_model/base_model-02-1.54.h5\n",
            "Epoch 3/25\n",
            "703/703 [==============================] - 9s 13ms/step - loss: 1.6729 - acc: 0.3834 - val_loss: 1.4367 - val_acc: 0.5625\n",
            "\n",
            "Epoch 00003: val_loss improved from 1.54336 to 1.43666, saving model to base_model/base_model-03-1.44.h5\n",
            "Epoch 4/25\n",
            "703/703 [==============================] - 9s 13ms/step - loss: 1.5828 - acc: 0.4193 - val_loss: 1.4391 - val_acc: 0.5625\n",
            "\n",
            "Epoch 00004: val_loss did not improve from 1.43666\n",
            "Epoch 5/25\n",
            "703/703 [==============================] - 9s 13ms/step - loss: 1.5190 - acc: 0.4434 - val_loss: 1.3974 - val_acc: 0.5312\n",
            "\n",
            "Epoch 00005: val_loss improved from 1.43666 to 1.39738, saving model to base_model/base_model-05-1.40.h5\n",
            "Epoch 6/25\n",
            "703/703 [==============================] - 10s 14ms/step - loss: 1.4636 - acc: 0.4661 - val_loss: 1.3078 - val_acc: 0.6094\n",
            "\n",
            "Epoch 00006: val_loss improved from 1.39738 to 1.30778, saving model to base_model/base_model-06-1.31.h5\n",
            "Epoch 7/25\n",
            "703/703 [==============================] - 9s 13ms/step - loss: 1.4119 - acc: 0.4867 - val_loss: 1.2899 - val_acc: 0.5781\n",
            "\n",
            "Epoch 00007: val_loss improved from 1.30778 to 1.28987, saving model to base_model/base_model-07-1.29.h5\n",
            "Epoch 8/25\n",
            "703/703 [==============================] - 10s 14ms/step - loss: 1.3534 - acc: 0.5111 - val_loss: 1.2139 - val_acc: 0.5781\n",
            "\n",
            "Epoch 00008: val_loss improved from 1.28987 to 1.21387, saving model to base_model/base_model-08-1.21.h5\n",
            "Epoch 9/25\n",
            "703/703 [==============================] - 9s 13ms/step - loss: 1.2956 - acc: 0.5306 - val_loss: 1.2616 - val_acc: 0.6406\n",
            "\n",
            "Epoch 00009: val_loss did not improve from 1.21387\n",
            "Epoch 10/25\n",
            "703/703 [==============================] - 9s 13ms/step - loss: 1.2548 - acc: 0.5472 - val_loss: 1.1826 - val_acc: 0.6406\n",
            "\n",
            "Epoch 00010: val_loss improved from 1.21387 to 1.18261, saving model to base_model/base_model-10-1.18.h5\n",
            "Epoch 11/25\n",
            "703/703 [==============================] - 9s 13ms/step - loss: 1.2111 - acc: 0.5641 - val_loss: 1.2000 - val_acc: 0.5156\n",
            "\n",
            "Epoch 00011: val_loss did not improve from 1.18261\n",
            "Epoch 12/25\n",
            "703/703 [==============================] - 9s 13ms/step - loss: 1.1759 - acc: 0.5774 - val_loss: 1.1313 - val_acc: 0.5781\n",
            "\n",
            "Epoch 00012: val_loss improved from 1.18261 to 1.13127, saving model to base_model/base_model-12-1.13.h5\n",
            "Epoch 13/25\n",
            "703/703 [==============================] - 9s 13ms/step - loss: 1.1479 - acc: 0.5899 - val_loss: 1.3296 - val_acc: 0.5469\n",
            "\n",
            "Epoch 00013: val_loss did not improve from 1.13127\n",
            "Epoch 14/25\n",
            "703/703 [==============================] - 9s 13ms/step - loss: 1.1217 - acc: 0.5983 - val_loss: 1.2549 - val_acc: 0.5781\n",
            "\n",
            "Epoch 00014: val_loss did not improve from 1.13127\n",
            "Epoch 15/25\n",
            "703/703 [==============================] - 9s 13ms/step - loss: 1.1021 - acc: 0.6037 - val_loss: 1.3082 - val_acc: 0.6094\n",
            "\n",
            "Epoch 00015: val_loss did not improve from 1.13127\n",
            "Epoch 16/25\n",
            "703/703 [==============================] - 9s 13ms/step - loss: 1.0108 - acc: 0.6372 - val_loss: 1.1228 - val_acc: 0.5781\n",
            "\n",
            "Epoch 00016: val_loss improved from 1.13127 to 1.12284, saving model to base_model/base_model-16-1.12.h5\n",
            "Epoch 17/25\n",
            "703/703 [==============================] - 9s 13ms/step - loss: 0.9850 - acc: 0.6467 - val_loss: 1.1158 - val_acc: 0.5781\n",
            "\n",
            "Epoch 00017: val_loss improved from 1.12284 to 1.11580, saving model to base_model/base_model-17-1.12.h5\n",
            "Epoch 18/25\n",
            "703/703 [==============================] - 9s 13ms/step - loss: 0.9689 - acc: 0.6532 - val_loss: 1.1148 - val_acc: 0.5469\n",
            "\n",
            "Epoch 00018: val_loss improved from 1.11580 to 1.11483, saving model to base_model/base_model-18-1.11.h5\n",
            "Epoch 19/25\n",
            "703/703 [==============================] - 9s 13ms/step - loss: 0.9437 - acc: 0.6621 - val_loss: 1.1300 - val_acc: 0.5625\n",
            "\n",
            "Epoch 00019: val_loss did not improve from 1.11483\n",
            "Epoch 20/25\n",
            "703/703 [==============================] - 9s 13ms/step - loss: 0.9362 - acc: 0.6661 - val_loss: 1.1306 - val_acc: 0.5625\n",
            "\n",
            "Epoch 00020: val_loss did not improve from 1.11483\n",
            "Epoch 21/25\n",
            "703/703 [==============================] - 9s 13ms/step - loss: 0.9323 - acc: 0.6675 - val_loss: 1.1299 - val_acc: 0.5469\n",
            "\n",
            "Epoch 00021: val_loss did not improve from 1.11483\n",
            "Epoch 22/25\n",
            "703/703 [==============================] - 9s 13ms/step - loss: 0.9256 - acc: 0.6703 - val_loss: 1.0922 - val_acc: 0.5625\n",
            "\n",
            "Epoch 00022: val_loss improved from 1.11483 to 1.09224, saving model to base_model/base_model-22-1.09.h5\n",
            "Epoch 23/25\n",
            "703/703 [==============================] - 9s 13ms/step - loss: 0.9239 - acc: 0.6706 - val_loss: 1.0910 - val_acc: 0.5625\n",
            "\n",
            "Epoch 00023: val_loss improved from 1.09224 to 1.09095, saving model to base_model/base_model-23-1.09.h5\n",
            "Epoch 24/25\n",
            "703/703 [==============================] - 9s 13ms/step - loss: 0.9230 - acc: 0.6705 - val_loss: 1.0910 - val_acc: 0.5625\n",
            "\n",
            "Epoch 00024: val_loss did not improve from 1.09095\n",
            "Epoch 25/25\n",
            "703/703 [==============================] - 10s 14ms/step - loss: 0.9221 - acc: 0.6708 - val_loss: 1.0910 - val_acc: 0.5625\n",
            "\n",
            "Epoch 00025: val_loss did not improve from 1.09095\n"
          ],
          "name": "stdout"
        }
      ]
    },
    {
      "cell_type": "markdown",
      "metadata": {
        "id": "tgyk2qjIb9RA",
        "colab_type": "text"
      },
      "source": [
        "#### Task 1.5.2 \n",
        "Train model by using data preprocessing i.e normalization or mean shift. "
      ]
    },
    {
      "cell_type": "code",
      "metadata": {
        "id": "xCK-zSDJb9RB",
        "colab_type": "code",
        "colab": {}
      },
      "source": [
        "input_img = Input(shape=(input_shape_cifar), name='input_img')"
      ],
      "execution_count": 0,
      "outputs": []
    },
    {
      "cell_type": "code",
      "metadata": {
        "id": "GX3OjHiqb9RG",
        "colab_type": "code",
        "colab": {}
      },
      "source": [
        "model_name = 'model_preprocessed_input'\n",
        "\n",
        "if not os.path.exists('./'+model_name):\n",
        "    os.mkdir(model_name)\n",
        "    "
      ],
      "execution_count": 0,
      "outputs": []
    },
    {
      "cell_type": "code",
      "metadata": {
        "id": "cWUK0g6UL3NS",
        "colab_type": "code",
        "colab": {}
      },
      "source": [
        "input_img = Input(shape=(input_shape_cifar), name='input_img')\n",
        "#l = Conv2D(64, kernel_size=(3,3), activation='relu')(input_img)\n",
        "l = Conv2D(64, kernel_size=(3,3),strides=(2,2),activation='relu')(input_img)\n",
        "#l = Conv2D(32, (3, 3), activation='relu')(l)\n",
        "l = Conv2D(32, (3, 3),strides=(2,2),activation='relu')(l)\n",
        "l = Conv2D(16, (3, 3),strides=(2,2),activation='relu')(l)\n",
        "l = Flatten()(l)\n",
        "#l = Dense(128, activation='relu')(l)\n",
        "l = Dense(32, activation='relu')(l)\n",
        "output_class = Dense(num_classes, activation='softmax')(l)\n",
        "model_preprocessed = Model(inputs=input_img, outputs=output_class)"
      ],
      "execution_count": 0,
      "outputs": []
    },
    {
      "cell_type": "code",
      "metadata": {
        "id": "79Sdq4sGb9RN",
        "colab_type": "code",
        "colab": {}
      },
      "source": [
        "# You may tweak this Learning Rate\n",
        "adam = Adam(lr=0.001)\n",
        "\n",
        "# Compile your model using an appropriate loss\n",
        "model_preprocessed.compile(loss='categorical_crossentropy', \n",
        "              optimizer=adam, \n",
        "              metrics=['accuracy'])"
      ],
      "execution_count": 0,
      "outputs": []
    },
    {
      "cell_type": "code",
      "metadata": {
        "id": "Wnf1G6Skb9RW",
        "colab_type": "code",
        "outputId": "da4fc74a-e991-40cf-e20a-00c58d942fda",
        "colab": {
          "base_uri": "https://localhost:8080/",
          "height": 661
        }
      },
      "source": [
        "plot_model(model_preprocessed, model_name+'/'+model_name+'.png')"
      ],
      "execution_count": 26,
      "outputs": [
        {
          "output_type": "execute_result",
          "data": {
            "image/png": "[encoded data removed]",
            "text/plain": [
              "<IPython.core.display.Image object>"
            ]
          },
          "metadata": {
            "tags": []
          },
          "execution_count": 26
        }
      ]
    },
    {
      "cell_type": "code",
      "metadata": {
        "id": "BPTgsOXPb9RZ",
        "colab_type": "code",
        "outputId": "17dcc292-d32d-4478-e48a-036191100958",
        "colab": {
          "base_uri": "https://localhost:8080/",
          "height": 391
        }
      },
      "source": [
        "model_preprocessed.summary()"
      ],
      "execution_count": 27,
      "outputs": [
        {
          "output_type": "stream",
          "text": [
            "Model: \"model_6\"\n",
            "_________________________________________________________________\n",
            "Layer (type)                 Output Shape              Param #   \n",
            "=================================================================\n",
            "input_img (InputLayer)       (None, 32, 32, 3)         0         \n",
            "_________________________________________________________________\n",
            "conv2d_6 (Conv2D)            (None, 15, 15, 64)        1792      \n",
            "_________________________________________________________________\n",
            "conv2d_7 (Conv2D)            (None, 7, 7, 32)          18464     \n",
            "_________________________________________________________________\n",
            "conv2d_8 (Conv2D)            (None, 3, 3, 16)          4624      \n",
            "_________________________________________________________________\n",
            "flatten_6 (Flatten)          (None, 144)               0         \n",
            "_________________________________________________________________\n",
            "dense_11 (Dense)             (None, 32)                4640      \n",
            "_________________________________________________________________\n",
            "dense_12 (Dense)             (None, 10)                330       \n",
            "=================================================================\n",
            "Total params: 29,850\n",
            "Trainable params: 29,850\n",
            "Non-trainable params: 0\n",
            "_________________________________________________________________\n"
          ],
          "name": "stdout"
        }
      ]
    },
    {
      "cell_type": "code",
      "metadata": {
        "id": "wMLC5t49b9Re",
        "colab_type": "code",
        "colab": {}
      },
      "source": [
        "# Add the following callbacks: ModelCheckpoint, CSVLogger. The callback for tensorboard has been provided to you.\n",
        "checkpoint = ModelCheckpoint(model_name+'/'+model_name+'-{epoch:02d}-{val_loss:.2f}.h5', \n",
        "                             monitor='val_loss', verbose=1, save_best_only=True, mode='auto')\n",
        "csvlogger = CSVLogger(model_name+'/logs.csv', separator=',', append=True)\n",
        "tensorboard = LRTensorBoard(log_dir='./'+model_name, histogram_freq=0, write_graph=True, write_grads=1, \n",
        "                            batch_size=batch_size, write_images=True)\n",
        "#reducelr = ReduceLROnPlateau(monitor='val_loss', factor=0.2, patience=3, min_lr=0.000001, min_delta=0.03)\n",
        "\n",
        "#callbacks = [checkpoint, tensorboard, csvlogger, reducelr]\n",
        "callbacks = [checkpoint, tensorboard, csvlogger]"
      ],
      "execution_count": 0,
      "outputs": []
    },
    {
      "cell_type": "code",
      "metadata": {
        "id": "wwzQejzkb9Rj",
        "colab_type": "code",
        "colab": {}
      },
      "source": [
        "# Create three generators again\n",
        "train_gen=data_generator(train_files,batch_size,'Norm')\n",
        "test_gen=data_generator(test_files,batch_size,'Norm')\n",
        "val_gen=data_generator(val_files,batch_size,'Norm')\n",
        "vald,valt=next(val_gen)"
      ],
      "execution_count": 0,
      "outputs": []
    },
    {
      "cell_type": "code",
      "metadata": {
        "id": "BpCBFCWWb9Rp",
        "colab_type": "code",
        "outputId": "b6bdfdcf-33d4-4df0-ea1b-b8ef65dd895f",
        "colab": {
          "base_uri": "https://localhost:8080/",
          "height": 1000
        }
      },
      "source": [
        "hist_preprocessed = model_preprocessed.fit_generator(train_gen, epochs=epochs, steps_per_epoch=(len(train_files)//batch_size),\n",
        "                           validation_data=(vald,valt),validation_steps=(len(val_files)//batch_size),\n",
        "                           callbacks=callbacks, verbose=1)\n",
        "all_histories.append(hist_preprocessed)"
      ],
      "execution_count": 30,
      "outputs": [
        {
          "output_type": "stream",
          "text": [
            "Epoch 1/25\n",
            "703/703 [==============================] - 10s 15ms/step - loss: 1.8339 - acc: 0.3316 - val_loss: 1.3563 - val_acc: 0.5625\n",
            "\n",
            "Epoch 00001: val_loss improved from inf to 1.35635, saving model to model_preprocessed_input/model_preprocessed_input-01-1.36.h5\n",
            "Epoch 2/25\n",
            "703/703 [==============================] - 10s 14ms/step - loss: 1.5194 - acc: 0.4508 - val_loss: 1.0974 - val_acc: 0.5938\n",
            "\n",
            "Epoch 00002: val_loss improved from 1.35635 to 1.09742, saving model to model_preprocessed_input/model_preprocessed_input-02-1.10.h5\n",
            "Epoch 3/25\n",
            "703/703 [==============================] - 10s 14ms/step - loss: 1.4128 - acc: 0.4900 - val_loss: 1.0214 - val_acc: 0.5938\n",
            "\n",
            "Epoch 00003: val_loss improved from 1.09742 to 1.02142, saving model to model_preprocessed_input/model_preprocessed_input-03-1.02.h5\n",
            "Epoch 4/25\n",
            "703/703 [==============================] - 10s 14ms/step - loss: 1.3532 - acc: 0.5170 - val_loss: 1.0017 - val_acc: 0.6094\n",
            "\n",
            "Epoch 00004: val_loss improved from 1.02142 to 1.00168, saving model to model_preprocessed_input/model_preprocessed_input-04-1.00.h5\n",
            "Epoch 5/25\n",
            "703/703 [==============================] - 10s 14ms/step - loss: 1.3093 - acc: 0.5308 - val_loss: 0.9888 - val_acc: 0.6250\n",
            "\n",
            "Epoch 00005: val_loss improved from 1.00168 to 0.98878, saving model to model_preprocessed_input/model_preprocessed_input-05-0.99.h5\n",
            "Epoch 6/25\n",
            "703/703 [==============================] - 10s 14ms/step - loss: 1.2717 - acc: 0.5463 - val_loss: 0.9847 - val_acc: 0.6250\n",
            "\n",
            "Epoch 00006: val_loss improved from 0.98878 to 0.98475, saving model to model_preprocessed_input/model_preprocessed_input-06-0.98.h5\n",
            "Epoch 7/25\n",
            "703/703 [==============================] - 10s 14ms/step - loss: 1.2393 - acc: 0.5581 - val_loss: 0.9792 - val_acc: 0.6094\n",
            "\n",
            "Epoch 00007: val_loss improved from 0.98475 to 0.97923, saving model to model_preprocessed_input/model_preprocessed_input-07-0.98.h5\n",
            "Epoch 8/25\n",
            "703/703 [==============================] - 10s 14ms/step - loss: 1.2116 - acc: 0.5685 - val_loss: 0.9931 - val_acc: 0.5938\n",
            "\n",
            "Epoch 00008: val_loss did not improve from 0.97923\n",
            "Epoch 9/25\n",
            "703/703 [==============================] - 10s 14ms/step - loss: 1.1856 - acc: 0.5780 - val_loss: 0.9864 - val_acc: 0.6094\n",
            "\n",
            "Epoch 00009: val_loss did not improve from 0.97923\n",
            "Epoch 10/25\n",
            "703/703 [==============================] - 10s 14ms/step - loss: 1.1627 - acc: 0.5876 - val_loss: 0.9936 - val_acc: 0.6250\n",
            "\n",
            "Epoch 00010: val_loss did not improve from 0.97923\n",
            "Epoch 11/25\n",
            "703/703 [==============================] - 10s 14ms/step - loss: 1.1417 - acc: 0.5945 - val_loss: 0.9981 - val_acc: 0.6094\n",
            "\n",
            "Epoch 00011: val_loss did not improve from 0.97923\n",
            "Epoch 12/25\n",
            "703/703 [==============================] - 10s 14ms/step - loss: 1.1193 - acc: 0.6032 - val_loss: 1.0001 - val_acc: 0.5625\n",
            "\n",
            "Epoch 00012: val_loss did not improve from 0.97923\n",
            "Epoch 13/25\n",
            "703/703 [==============================] - 10s 14ms/step - loss: 1.0989 - acc: 0.6108 - val_loss: 0.9879 - val_acc: 0.5938\n",
            "\n",
            "Epoch 00013: val_loss did not improve from 0.97923\n",
            "Epoch 14/25\n",
            "703/703 [==============================] - 10s 14ms/step - loss: 1.0811 - acc: 0.6176 - val_loss: 0.9834 - val_acc: 0.5938\n",
            "\n",
            "Epoch 00014: val_loss did not improve from 0.97923\n",
            "Epoch 15/25\n",
            "703/703 [==============================] - 10s 14ms/step - loss: 1.0652 - acc: 0.6223 - val_loss: 0.9967 - val_acc: 0.6250\n",
            "\n",
            "Epoch 00015: val_loss did not improve from 0.97923\n",
            "Epoch 16/25\n",
            "703/703 [==============================] - 10s 14ms/step - loss: 1.0483 - acc: 0.6284 - val_loss: 0.9759 - val_acc: 0.6406\n",
            "\n",
            "Epoch 00016: val_loss improved from 0.97923 to 0.97589, saving model to model_preprocessed_input/model_preprocessed_input-16-0.98.h5\n",
            "Epoch 17/25\n",
            "703/703 [==============================] - 10s 14ms/step - loss: 1.0326 - acc: 0.6362 - val_loss: 0.9603 - val_acc: 0.6562\n",
            "\n",
            "Epoch 00017: val_loss improved from 0.97589 to 0.96034, saving model to model_preprocessed_input/model_preprocessed_input-17-0.96.h5\n",
            "Epoch 18/25\n",
            "703/703 [==============================] - 10s 14ms/step - loss: 1.0159 - acc: 0.6421 - val_loss: 0.9366 - val_acc: 0.6719\n",
            "\n",
            "Epoch 00018: val_loss improved from 0.96034 to 0.93665, saving model to model_preprocessed_input/model_preprocessed_input-18-0.94.h5\n",
            "Epoch 19/25\n",
            "703/703 [==============================] - 10s 14ms/step - loss: 1.0023 - acc: 0.6483 - val_loss: 0.9306 - val_acc: 0.6562\n",
            "\n",
            "Epoch 00019: val_loss improved from 0.93665 to 0.93055, saving model to model_preprocessed_input/model_preprocessed_input-19-0.93.h5\n",
            "Epoch 20/25\n",
            "703/703 [==============================] - 10s 14ms/step - loss: 0.9895 - acc: 0.6520 - val_loss: 0.9270 - val_acc: 0.6406\n",
            "\n",
            "Epoch 00020: val_loss improved from 0.93055 to 0.92705, saving model to model_preprocessed_input/model_preprocessed_input-20-0.93.h5\n",
            "Epoch 21/25\n",
            "703/703 [==============================] - 10s 14ms/step - loss: 0.9771 - acc: 0.6548 - val_loss: 0.9208 - val_acc: 0.6250\n",
            "\n",
            "Epoch 00021: val_loss improved from 0.92705 to 0.92085, saving model to model_preprocessed_input/model_preprocessed_input-21-0.92.h5\n",
            "Epoch 22/25\n",
            "703/703 [==============================] - 10s 14ms/step - loss: 0.9649 - acc: 0.6597 - val_loss: 0.9424 - val_acc: 0.6250\n",
            "\n",
            "Epoch 00022: val_loss did not improve from 0.92085\n",
            "Epoch 23/25\n",
            "703/703 [==============================] - 10s 14ms/step - loss: 0.9520 - acc: 0.6654 - val_loss: 0.9534 - val_acc: 0.6406\n",
            "\n",
            "Epoch 00023: val_loss did not improve from 0.92085\n",
            "Epoch 24/25\n",
            "703/703 [==============================] - 10s 14ms/step - loss: 0.9394 - acc: 0.6688 - val_loss: 0.9471 - val_acc: 0.6250\n",
            "\n",
            "Epoch 00024: val_loss did not improve from 0.92085\n",
            "Epoch 25/25\n",
            "703/703 [==============================] - 10s 14ms/step - loss: 0.9303 - acc: 0.6713 - val_loss: 0.9419 - val_acc: 0.6406\n",
            "\n",
            "Epoch 00025: val_loss did not improve from 0.92085\n"
          ],
          "name": "stdout"
        }
      ]
    },
    {
      "cell_type": "markdown",
      "metadata": {
        "id": "5LSsD-YYb9Rw",
        "colab_type": "text"
      },
      "source": [
        "### Task 2.1 Pooling\n",
        "Now, you need to modify the model by adding pooling layer(s). Pooling could be average pooling or max pooling. You can use the size and stride for pooling of your choice. \n",
        "<br> \n",
        "Modify the network by introducing pooling layer and train the model using the __fit_generator__ function. "
      ]
    },
    {
      "cell_type": "code",
      "metadata": {
        "id": "ueDeFKxGb9Rz",
        "colab_type": "code",
        "colab": {}
      },
      "source": [
        "model_name = 'model_pooling'\n",
        "\n",
        "input_img = Input(shape=(input_shape_cifar), name='input_img')\n",
        "#l = Conv2D(64, kernel_size=(3,3), activation='relu')(input_img)\n",
        "l = Conv2D(64, kernel_size=(3,3),strides=(2,2),activation='relu', name='conv2d_1')(input_img)\n",
        "#l = Conv2D(32, (3, 3), activation='relu')(l)\n",
        "l = MaxPooling2D(pool_size=(2, 2))(l)\n",
        "l = Conv2D(32, (3, 3),strides=(2,2),activation='relu', name='conv2d_2')(l)\n",
        "l = Conv2D(16, (3, 3),strides=(2,2),activation='relu')(l)\n",
        "l = Flatten()(l)\n",
        "#l = Dense(128, activation='relu')(l)\n",
        "l = Dense(32, activation='relu')(l)\n",
        "output_class = Dense(num_classes, activation='softmax')(l)\n",
        "model_pooled = Model(inputs=input_img, outputs=output_class)\n",
        "\n",
        "if not os.path.exists('./'+model_name):\n",
        "    os.mkdir(model_name)"
      ],
      "execution_count": 0,
      "outputs": []
    },
    {
      "cell_type": "code",
      "metadata": {
        "id": "2tyz6_ohb9R4",
        "colab_type": "code",
        "colab": {}
      },
      "source": [
        "adam = Adam(lr=0.001)\n",
        "model_pooled.compile(loss='categorical_crossentropy', \n",
        "              optimizer=adam, \n",
        "              metrics=['accuracy'])"
      ],
      "execution_count": 0,
      "outputs": []
    },
    {
      "cell_type": "code",
      "metadata": {
        "id": "abPS-h5sb9R_",
        "colab_type": "code",
        "outputId": "d8961bd6-c966-495b-a1ea-8baa92c2d14e",
        "colab": {
          "base_uri": "https://localhost:8080/",
          "height": 425
        }
      },
      "source": [
        "plot_model(model_pooled, model_name+'/'+model_name+'.png')\n",
        "model_pooled.summary()"
      ],
      "execution_count": 34,
      "outputs": [
        {
          "output_type": "stream",
          "text": [
            "Model: \"model_8\"\n",
            "_________________________________________________________________\n",
            "Layer (type)                 Output Shape              Param #   \n",
            "=================================================================\n",
            "input_img (InputLayer)       (None, 32, 32, 3)         0         \n",
            "_________________________________________________________________\n",
            "conv2d_1 (Conv2D)            (None, 15, 15, 64)        1792      \n",
            "_________________________________________________________________\n",
            "max_pooling2d_2 (MaxPooling2 (None, 7, 7, 64)          0         \n",
            "_________________________________________________________________\n",
            "conv2d_2 (Conv2D)            (None, 3, 3, 32)          18464     \n",
            "_________________________________________________________________\n",
            "conv2d_10 (Conv2D)           (None, 1, 1, 16)          4624      \n",
            "_________________________________________________________________\n",
            "flatten_8 (Flatten)          (None, 16)                0         \n",
            "_________________________________________________________________\n",
            "dense_15 (Dense)             (None, 32)                544       \n",
            "_________________________________________________________________\n",
            "dense_16 (Dense)             (None, 10)                330       \n",
            "=================================================================\n",
            "Total params: 25,754\n",
            "Trainable params: 25,754\n",
            "Non-trainable params: 0\n",
            "_________________________________________________________________\n"
          ],
          "name": "stdout"
        }
      ]
    },
    {
      "cell_type": "code",
      "metadata": {
        "id": "HMd7RWOeb9SE",
        "colab_type": "code",
        "colab": {}
      },
      "source": [
        "# Add the following callbacks: ModelCheckpoint, CSVLogger\n",
        "checkpoint = ModelCheckpoint(model_name+'/'+model_name+'-{epoch:02d}-{val_loss:.2f}.h5', \n",
        "                             monitor='val_loss', verbose=1, save_best_only=True, mode='auto')\n",
        "csvlogger = CSVLogger(model_name+'/logs.csv', separator=',', append=True)\n",
        "tensorboard = LRTensorBoard(log_dir='./'+model_name, histogram_freq=0, write_graph=True, write_grads=1, \n",
        "                            batch_size=batch_size, write_images=True)\n",
        "#reducelr = ReduceLROnPlateau(monitor='val_loss', factor=0.2, patience=3, min_lr=0.000001, min_delta=0.03)\n",
        "callbacks = [checkpoint, tensorboard, csvlogger]"
      ],
      "execution_count": 0,
      "outputs": []
    },
    {
      "cell_type": "code",
      "metadata": {
        "id": "-SoBvNZbb9SM",
        "colab_type": "code",
        "colab": {}
      },
      "source": [
        "# Create generators\n",
        "train_gen=data_generator(train_files,batch_size,'Norm')\n",
        "test_gen=data_generator(test_files,batch_size,'Norm')\n",
        "val_gen=data_generator(val_files,batch_size,'Norm')\n",
        "vald,valt=next(val_gen)"
      ],
      "execution_count": 0,
      "outputs": []
    },
    {
      "cell_type": "code",
      "metadata": {
        "scrolled": true,
        "id": "TJb0fcpRb9SS",
        "colab_type": "code",
        "outputId": "dacb633b-f50c-456a-a34c-4256bf5a9234",
        "colab": {
          "base_uri": "https://localhost:8080/",
          "height": 1000
        }
      },
      "source": [
        "hist_pooled = model_pooled.fit_generator(train_gen, epochs=epochs, steps_per_epoch=(len(train_files)//batch_size),\n",
        "                           validation_data=(vald,valt),validation_steps=(len(val_files)//batch_size),\n",
        "                           callbacks=callbacks, verbose=1)\n",
        "all_histories.append(hist_pooled)"
      ],
      "execution_count": 38,
      "outputs": [
        {
          "output_type": "stream",
          "text": [
            "Epoch 1/25\n",
            "703/703 [==============================] - 10s 15ms/step - loss: 1.7800 - acc: 0.3467 - val_loss: 1.4185 - val_acc: 0.4688\n",
            "\n",
            "Epoch 00001: val_loss improved from inf to 1.41848, saving model to model_pooling/model_pooling-01-1.42.h5\n",
            "Epoch 2/25\n",
            "703/703 [==============================] - 10s 14ms/step - loss: 1.4523 - acc: 0.4722 - val_loss: 1.1689 - val_acc: 0.5156\n",
            "\n",
            "Epoch 00002: val_loss improved from 1.41848 to 1.16890, saving model to model_pooling/model_pooling-02-1.17.h5\n",
            "Epoch 3/25\n",
            "703/703 [==============================] - 10s 14ms/step - loss: 1.3418 - acc: 0.5170 - val_loss: 1.0642 - val_acc: 0.5312\n",
            "\n",
            "Epoch 00003: val_loss improved from 1.16890 to 1.06418, saving model to model_pooling/model_pooling-03-1.06.h5\n",
            "Epoch 4/25\n",
            "703/703 [==============================] - 10s 14ms/step - loss: 1.2729 - acc: 0.5461 - val_loss: 0.9888 - val_acc: 0.5938\n",
            "\n",
            "Epoch 00004: val_loss improved from 1.06418 to 0.98875, saving model to model_pooling/model_pooling-04-0.99.h5\n",
            "Epoch 5/25\n",
            "703/703 [==============================] - 10s 14ms/step - loss: 1.2164 - acc: 0.5686 - val_loss: 0.9459 - val_acc: 0.6250\n",
            "\n",
            "Epoch 00005: val_loss improved from 0.98875 to 0.94586, saving model to model_pooling/model_pooling-05-0.95.h5\n",
            "Epoch 6/25\n",
            "703/703 [==============================] - 10s 14ms/step - loss: 1.1711 - acc: 0.5842 - val_loss: 0.8994 - val_acc: 0.6406\n",
            "\n",
            "Epoch 00006: val_loss improved from 0.94586 to 0.89944, saving model to model_pooling/model_pooling-06-0.90.h5\n",
            "Epoch 7/25\n",
            "703/703 [==============================] - 10s 14ms/step - loss: 1.1337 - acc: 0.5986 - val_loss: 0.8678 - val_acc: 0.6250\n",
            "\n",
            "Epoch 00007: val_loss improved from 0.89944 to 0.86782, saving model to model_pooling/model_pooling-07-0.87.h5\n",
            "Epoch 8/25\n",
            "703/703 [==============================] - 10s 14ms/step - loss: 1.1020 - acc: 0.6102 - val_loss: 0.8532 - val_acc: 0.6406\n",
            "\n",
            "Epoch 00008: val_loss improved from 0.86782 to 0.85319, saving model to model_pooling/model_pooling-08-0.85.h5\n",
            "Epoch 9/25\n",
            "703/703 [==============================] - 10s 14ms/step - loss: 1.0732 - acc: 0.6226 - val_loss: 0.8255 - val_acc: 0.6562\n",
            "\n",
            "Epoch 00009: val_loss improved from 0.85319 to 0.82552, saving model to model_pooling/model_pooling-09-0.83.h5\n",
            "Epoch 10/25\n",
            "703/703 [==============================] - 10s 14ms/step - loss: 1.0499 - acc: 0.6323 - val_loss: 0.8081 - val_acc: 0.6719\n",
            "\n",
            "Epoch 00010: val_loss improved from 0.82552 to 0.80811, saving model to model_pooling/model_pooling-10-0.81.h5\n",
            "Epoch 11/25\n",
            "703/703 [==============================] - 10s 14ms/step - loss: 1.0288 - acc: 0.6394 - val_loss: 0.7930 - val_acc: 0.6719\n",
            "\n",
            "Epoch 00011: val_loss improved from 0.80811 to 0.79298, saving model to model_pooling/model_pooling-11-0.79.h5\n",
            "Epoch 12/25\n",
            "703/703 [==============================] - 10s 14ms/step - loss: 1.0089 - acc: 0.6469 - val_loss: 0.7793 - val_acc: 0.6562\n",
            "\n",
            "Epoch 00012: val_loss improved from 0.79298 to 0.77929, saving model to model_pooling/model_pooling-12-0.78.h5\n",
            "Epoch 13/25\n",
            "703/703 [==============================] - 10s 14ms/step - loss: 0.9934 - acc: 0.6533 - val_loss: 0.7744 - val_acc: 0.7031\n",
            "\n",
            "Epoch 00013: val_loss improved from 0.77929 to 0.77440, saving model to model_pooling/model_pooling-13-0.77.h5\n",
            "Epoch 14/25\n",
            "703/703 [==============================] - 10s 14ms/step - loss: 0.9769 - acc: 0.6584 - val_loss: 0.7670 - val_acc: 0.7031\n",
            "\n",
            "Epoch 00014: val_loss improved from 0.77440 to 0.76698, saving model to model_pooling/model_pooling-14-0.77.h5\n",
            "Epoch 15/25\n",
            "703/703 [==============================] - 10s 14ms/step - loss: 0.9630 - acc: 0.6630 - val_loss: 0.7556 - val_acc: 0.6719\n",
            "\n",
            "Epoch 00015: val_loss improved from 0.76698 to 0.75560, saving model to model_pooling/model_pooling-15-0.76.h5\n",
            "Epoch 16/25\n",
            "703/703 [==============================] - 10s 14ms/step - loss: 0.9508 - acc: 0.6678 - val_loss: 0.7405 - val_acc: 0.6875\n",
            "\n",
            "Epoch 00016: val_loss improved from 0.75560 to 0.74046, saving model to model_pooling/model_pooling-16-0.74.h5\n",
            "Epoch 17/25\n",
            "703/703 [==============================] - 10s 14ms/step - loss: 0.9398 - acc: 0.6713 - val_loss: 0.7440 - val_acc: 0.7031\n",
            "\n",
            "Epoch 00017: val_loss did not improve from 0.74046\n",
            "Epoch 18/25\n",
            "703/703 [==============================] - 10s 14ms/step - loss: 0.9290 - acc: 0.6766 - val_loss: 0.7517 - val_acc: 0.7031\n",
            "\n",
            "Epoch 00018: val_loss did not improve from 0.74046\n",
            "Epoch 19/25\n",
            "703/703 [==============================] - 10s 14ms/step - loss: 0.9179 - acc: 0.6808 - val_loss: 0.7532 - val_acc: 0.6562\n",
            "\n",
            "Epoch 00019: val_loss did not improve from 0.74046\n",
            "Epoch 20/25\n",
            "703/703 [==============================] - 10s 14ms/step - loss: 0.9089 - acc: 0.6839 - val_loss: 0.7489 - val_acc: 0.7188\n",
            "\n",
            "Epoch 00020: val_loss did not improve from 0.74046\n",
            "Epoch 21/25\n",
            "703/703 [==============================] - 10s 14ms/step - loss: 0.9014 - acc: 0.6867 - val_loss: 0.7757 - val_acc: 0.6875\n",
            "\n",
            "Epoch 00021: val_loss did not improve from 0.74046\n",
            "Epoch 22/25\n",
            "703/703 [==============================] - 10s 14ms/step - loss: 0.8907 - acc: 0.6903 - val_loss: 0.7830 - val_acc: 0.6875\n",
            "\n",
            "Epoch 00022: val_loss did not improve from 0.74046\n",
            "Epoch 23/25\n",
            "703/703 [==============================] - 10s 14ms/step - loss: 0.8822 - acc: 0.6947 - val_loss: 0.7898 - val_acc: 0.6406\n",
            "\n",
            "Epoch 00023: val_loss did not improve from 0.74046\n",
            "Epoch 24/25\n",
            "703/703 [==============================] - 10s 14ms/step - loss: 0.8740 - acc: 0.6969 - val_loss: 0.7911 - val_acc: 0.6719\n",
            "\n",
            "Epoch 00024: val_loss did not improve from 0.74046\n",
            "Epoch 25/25\n",
            "703/703 [==============================] - 10s 14ms/step - loss: 0.8669 - acc: 0.6998 - val_loss: 0.7878 - val_acc: 0.6406\n",
            "\n",
            "Epoch 00025: val_loss did not improve from 0.74046\n"
          ],
          "name": "stdout"
        }
      ]
    },
    {
      "cell_type": "markdown",
      "metadata": {
        "id": "ygz2ZEtYb9SW",
        "colab_type": "text"
      },
      "source": [
        "### Task 3.1 Dropout\n",
        "Modify the network by introducing dropout layer(s) and train the model using the __fit_generator__ function. "
      ]
    },
    {
      "cell_type": "code",
      "metadata": {
        "id": "mdmIlb_Cb9SY",
        "colab_type": "code",
        "outputId": "599e179f-c479-4acc-b659-4d5ee969a142",
        "colab": {
          "base_uri": "https://localhost:8080/",
          "height": 122
        }
      },
      "source": [
        "model_name = 'model_dropout'\n",
        "\n",
        "input_img = Input(shape=(input_shape_cifar), name='input_img')\n",
        "#l = Conv2D(64, kernel_size=(3,3), activation='relu')(input_img)\n",
        "l = Conv2D(64, kernel_size=(3,3),strides=(2,2),activation='relu')(input_img)\n",
        "#l = Conv2D(32, (3, 3), activation='relu')(l)\n",
        "l = MaxPooling2D(pool_size=(2, 2))(l)\n",
        "l = Conv2D(32, (3, 3),strides=(2,2),activation='relu')(l)\n",
        "l = Conv2D(16, (3, 3),strides=(2,2),activation='relu')(l)\n",
        "l = Dropout(rate=0.25)(l)\n",
        "l = Flatten()(l)\n",
        "#l = Dense(128, activation='relu')(l)\n",
        "l = Dense(32, activation='relu')(l)\n",
        "l = Dropout(rate=0.5)(l)\n",
        "output_class = Dense(num_classes, activation='softmax')(l)\n",
        "model_dropout = Model(inputs=input_img, outputs=output_class)\n",
        "\n",
        "if not os.path.exists('./'+model_name):\n",
        "    os.mkdir(model_name)"
      ],
      "execution_count": 39,
      "outputs": [
        {
          "output_type": "stream",
          "text": [
            "WARNING:tensorflow:From /usr/local/lib/python3.6/dist-packages/keras/backend/tensorflow_backend.py:148: The name tf.placeholder_with_default is deprecated. Please use tf.compat.v1.placeholder_with_default instead.\n",
            "\n",
            "WARNING:tensorflow:From /usr/local/lib/python3.6/dist-packages/keras/backend/tensorflow_backend.py:3733: calling dropout (from tensorflow.python.ops.nn_ops) with keep_prob is deprecated and will be removed in a future version.\n",
            "Instructions for updating:\n",
            "Please use `rate` instead of `keep_prob`. Rate should be set to `rate = 1 - keep_prob`.\n"
          ],
          "name": "stdout"
        }
      ]
    },
    {
      "cell_type": "code",
      "metadata": {
        "id": "uLAVlmS3b9Se",
        "colab_type": "code",
        "colab": {}
      },
      "source": [
        "adam = Adam(lr=0.001)\n",
        "model_dropout.compile(loss='categorical_crossentropy', \n",
        "              optimizer=adam, \n",
        "              metrics=['accuracy'])"
      ],
      "execution_count": 0,
      "outputs": []
    },
    {
      "cell_type": "code",
      "metadata": {
        "id": "lLTSQ8AAb9So",
        "colab_type": "code",
        "outputId": "6a88e53d-5efd-4f59-9503-3202794fd545",
        "colab": {
          "base_uri": "https://localhost:8080/",
          "height": 493
        }
      },
      "source": [
        "plot_model(model_dropout, model_name+'/'+model_name+'.png')\n",
        "model_dropout.summary()"
      ],
      "execution_count": 41,
      "outputs": [
        {
          "output_type": "stream",
          "text": [
            "Model: \"model_9\"\n",
            "_________________________________________________________________\n",
            "Layer (type)                 Output Shape              Param #   \n",
            "=================================================================\n",
            "input_img (InputLayer)       (None, 32, 32, 3)         0         \n",
            "_________________________________________________________________\n",
            "conv2d_11 (Conv2D)           (None, 15, 15, 64)        1792      \n",
            "_________________________________________________________________\n",
            "max_pooling2d_3 (MaxPooling2 (None, 7, 7, 64)          0         \n",
            "_________________________________________________________________\n",
            "conv2d_12 (Conv2D)           (None, 3, 3, 32)          18464     \n",
            "_________________________________________________________________\n",
            "conv2d_13 (Conv2D)           (None, 1, 1, 16)          4624      \n",
            "_________________________________________________________________\n",
            "dropout_1 (Dropout)          (None, 1, 1, 16)          0         \n",
            "_________________________________________________________________\n",
            "flatten_9 (Flatten)          (None, 16)                0         \n",
            "_________________________________________________________________\n",
            "dense_17 (Dense)             (None, 32)                544       \n",
            "_________________________________________________________________\n",
            "dropout_2 (Dropout)          (None, 32)                0         \n",
            "_________________________________________________________________\n",
            "dense_18 (Dense)             (None, 10)                330       \n",
            "=================================================================\n",
            "Total params: 25,754\n",
            "Trainable params: 25,754\n",
            "Non-trainable params: 0\n",
            "_________________________________________________________________\n"
          ],
          "name": "stdout"
        }
      ]
    },
    {
      "cell_type": "code",
      "metadata": {
        "id": "bcCOljcOb9Sq",
        "colab_type": "code",
        "colab": {}
      },
      "source": [
        "checkpoint = ModelCheckpoint(model_name+'/'+model_name+'-{epoch:02d}-{val_loss:.2f}.h5', \n",
        "                             monitor='val_loss', verbose=1, save_best_only=True, mode='auto')\n",
        "csvlogger = CSVLogger(model_name+'/logs.csv', separator=',', append=True)\n",
        "tensorboard = LRTensorBoard(log_dir='./'+model_name, histogram_freq=0, write_graph=True, write_grads=1, \n",
        "                            batch_size=batch_size, write_images=True)\n",
        "#reducelr = ReduceLROnPlateau(monitor='val_loss', factor=0.2, patience=3, min_lr=0.000001, min_delta=0.03)\n",
        "callbacks = [checkpoint, tensorboard, csvlogger]"
      ],
      "execution_count": 0,
      "outputs": []
    },
    {
      "cell_type": "code",
      "metadata": {
        "id": "-UaUpIcOb9Sx",
        "colab_type": "code",
        "colab": {}
      },
      "source": [
        "# Create three Generators\n",
        "train_gen=data_generator(train_files,batch_size,'Norm')\n",
        "test_gen=data_generator(test_files,batch_size,'Norm')\n",
        "val_gen=data_generator(val_files,batch_size,'Norm')\n",
        "vald,valt=next(val_gen)"
      ],
      "execution_count": 0,
      "outputs": []
    },
    {
      "cell_type": "code",
      "metadata": {
        "scrolled": true,
        "id": "-6EG5ZOWb9S2",
        "colab_type": "code",
        "outputId": "5dc4e4ab-df91-421a-ec5a-25aa0fed7da4",
        "colab": {
          "base_uri": "https://localhost:8080/",
          "height": 1000
        }
      },
      "source": [
        "hist_dropout = model_dropout.fit_generator(train_gen, epochs=epochs, steps_per_epoch=(len(train_files)//batch_size),\n",
        "                           validation_data=(vald,valt),validation_steps=(len(val_files)//batch_size),\n",
        "                           callbacks=callbacks, verbose=1)\n",
        "\n",
        "all_histories.append(hist_dropout)"
      ],
      "execution_count": 44,
      "outputs": [
        {
          "output_type": "stream",
          "text": [
            "Epoch 1/25\n",
            "703/703 [==============================] - 11s 15ms/step - loss: 2.0225 - acc: 0.2247 - val_loss: 1.6871 - val_acc: 0.4062\n",
            "\n",
            "Epoch 00001: val_loss improved from inf to 1.68711, saving model to model_dropout/model_dropout-01-1.69.h5\n",
            "Epoch 2/25\n",
            "703/703 [==============================] - 10s 14ms/step - loss: 1.7716 - acc: 0.3209 - val_loss: 1.5047 - val_acc: 0.4688\n",
            "\n",
            "Epoch 00002: val_loss improved from 1.68711 to 1.50471, saving model to model_dropout/model_dropout-02-1.50.h5\n",
            "Epoch 3/25\n",
            "703/703 [==============================] - 10s 14ms/step - loss: 1.6898 - acc: 0.3662 - val_loss: 1.4194 - val_acc: 0.4844\n",
            "\n",
            "Epoch 00003: val_loss improved from 1.50471 to 1.41938, saving model to model_dropout/model_dropout-03-1.42.h5\n",
            "Epoch 4/25\n",
            "703/703 [==============================] - 10s 14ms/step - loss: 1.6406 - acc: 0.3883 - val_loss: 1.3685 - val_acc: 0.4844\n",
            "\n",
            "Epoch 00004: val_loss improved from 1.41938 to 1.36850, saving model to model_dropout/model_dropout-04-1.37.h5\n",
            "Epoch 5/25\n",
            "703/703 [==============================] - 10s 14ms/step - loss: 1.6025 - acc: 0.4030 - val_loss: 1.2972 - val_acc: 0.5469\n",
            "\n",
            "Epoch 00005: val_loss improved from 1.36850 to 1.29717, saving model to model_dropout/model_dropout-05-1.30.h5\n",
            "Epoch 6/25\n",
            "703/703 [==============================] - 10s 14ms/step - loss: 1.5745 - acc: 0.4131 - val_loss: 1.2472 - val_acc: 0.4688\n",
            "\n",
            "Epoch 00006: val_loss improved from 1.29717 to 1.24722, saving model to model_dropout/model_dropout-06-1.25.h5\n",
            "Epoch 7/25\n",
            "703/703 [==============================] - 10s 15ms/step - loss: 1.5417 - acc: 0.4272 - val_loss: 1.2152 - val_acc: 0.5312\n",
            "\n",
            "Epoch 00007: val_loss improved from 1.24722 to 1.21516, saving model to model_dropout/model_dropout-07-1.22.h5\n",
            "Epoch 8/25\n",
            "703/703 [==============================] - 10s 15ms/step - loss: 1.5203 - acc: 0.4385 - val_loss: 1.1814 - val_acc: 0.5312\n",
            "\n",
            "Epoch 00008: val_loss improved from 1.21516 to 1.18138, saving model to model_dropout/model_dropout-08-1.18.h5\n",
            "Epoch 9/25\n",
            "703/703 [==============================] - 10s 14ms/step - loss: 1.5038 - acc: 0.4479 - val_loss: 1.1746 - val_acc: 0.5156\n",
            "\n",
            "Epoch 00009: val_loss improved from 1.18138 to 1.17455, saving model to model_dropout/model_dropout-09-1.17.h5\n",
            "Epoch 10/25\n",
            "703/703 [==============================] - 10s 14ms/step - loss: 1.4844 - acc: 0.4561 - val_loss: 1.1757 - val_acc: 0.5781\n",
            "\n",
            "Epoch 00010: val_loss did not improve from 1.17455\n",
            "Epoch 11/25\n",
            "703/703 [==============================] - 10s 15ms/step - loss: 1.4689 - acc: 0.4620 - val_loss: 1.1402 - val_acc: 0.5938\n",
            "\n",
            "Epoch 00011: val_loss improved from 1.17455 to 1.14015, saving model to model_dropout/model_dropout-11-1.14.h5\n",
            "Epoch 12/25\n",
            "703/703 [==============================] - 10s 15ms/step - loss: 1.4462 - acc: 0.4756 - val_loss: 1.0837 - val_acc: 0.5625\n",
            "\n",
            "Epoch 00012: val_loss improved from 1.14015 to 1.08366, saving model to model_dropout/model_dropout-12-1.08.h5\n",
            "Epoch 13/25\n",
            "703/703 [==============================] - 10s 14ms/step - loss: 1.4391 - acc: 0.4776 - val_loss: 1.1204 - val_acc: 0.5625\n",
            "\n",
            "Epoch 00013: val_loss did not improve from 1.08366\n",
            "Epoch 14/25\n",
            "703/703 [==============================] - 10s 15ms/step - loss: 1.4312 - acc: 0.4800 - val_loss: 1.1170 - val_acc: 0.5625\n",
            "\n",
            "Epoch 00014: val_loss did not improve from 1.08366\n",
            "Epoch 15/25\n",
            "703/703 [==============================] - 10s 14ms/step - loss: 1.4202 - acc: 0.4863 - val_loss: 1.0509 - val_acc: 0.6562\n",
            "\n",
            "Epoch 00015: val_loss improved from 1.08366 to 1.05085, saving model to model_dropout/model_dropout-15-1.05.h5\n",
            "Epoch 16/25\n",
            "703/703 [==============================] - 10s 14ms/step - loss: 1.4045 - acc: 0.4917 - val_loss: 1.0177 - val_acc: 0.6094\n",
            "\n",
            "Epoch 00016: val_loss improved from 1.05085 to 1.01770, saving model to model_dropout/model_dropout-16-1.02.h5\n",
            "Epoch 17/25\n",
            "703/703 [==============================] - 10s 14ms/step - loss: 1.4007 - acc: 0.4935 - val_loss: 1.0682 - val_acc: 0.5625\n",
            "\n",
            "Epoch 00017: val_loss did not improve from 1.01770\n",
            "Epoch 18/25\n",
            "703/703 [==============================] - 10s 15ms/step - loss: 1.3879 - acc: 0.4983 - val_loss: 1.1431 - val_acc: 0.5781\n",
            "\n",
            "Epoch 00018: val_loss did not improve from 1.01770\n",
            "Epoch 19/25\n",
            "703/703 [==============================] - 10s 15ms/step - loss: 1.3774 - acc: 0.5017 - val_loss: 1.0312 - val_acc: 0.6094\n",
            "\n",
            "Epoch 00019: val_loss did not improve from 1.01770\n",
            "Epoch 20/25\n",
            "703/703 [==============================] - 10s 15ms/step - loss: 1.3714 - acc: 0.5010 - val_loss: 1.0286 - val_acc: 0.5781\n",
            "\n",
            "Epoch 00020: val_loss did not improve from 1.01770\n",
            "Epoch 21/25\n",
            "703/703 [==============================] - 10s 14ms/step - loss: 1.3641 - acc: 0.5076 - val_loss: 1.0257 - val_acc: 0.6094\n",
            "\n",
            "Epoch 00021: val_loss did not improve from 1.01770\n",
            "Epoch 22/25\n",
            "703/703 [==============================] - 10s 14ms/step - loss: 1.3648 - acc: 0.5064 - val_loss: 1.0051 - val_acc: 0.6094\n",
            "\n",
            "Epoch 00022: val_loss improved from 1.01770 to 1.00506, saving model to model_dropout/model_dropout-22-1.01.h5\n",
            "Epoch 23/25\n",
            "703/703 [==============================] - 10s 14ms/step - loss: 1.3555 - acc: 0.5093 - val_loss: 1.0236 - val_acc: 0.6094\n",
            "\n",
            "Epoch 00023: val_loss did not improve from 1.00506\n",
            "Epoch 24/25\n",
            "703/703 [==============================] - 10s 14ms/step - loss: 1.3432 - acc: 0.5143 - val_loss: 1.0088 - val_acc: 0.6250\n",
            "\n",
            "Epoch 00024: val_loss did not improve from 1.00506\n",
            "Epoch 25/25\n",
            "703/703 [==============================] - 10s 14ms/step - loss: 1.3384 - acc: 0.5162 - val_loss: 1.0306 - val_acc: 0.6562\n",
            "\n",
            "Epoch 00025: val_loss did not improve from 1.00506\n"
          ],
          "name": "stdout"
        }
      ]
    },
    {
      "cell_type": "markdown",
      "metadata": {
        "id": "PYSMVBawb9TD",
        "colab_type": "text"
      },
      "source": [
        "### Task 4.1 Batch Normalization\n",
        "Modify the network by introducing batch normalization layer(s) and train the model. "
      ]
    },
    {
      "cell_type": "code",
      "metadata": {
        "id": "2iVspyOFb9TG",
        "colab_type": "code",
        "colab": {}
      },
      "source": [
        "model_name = 'model_batch_normalized'\n",
        "if not os.path.exists('./'+model_name):\n",
        "    os.mkdir(model_name)"
      ],
      "execution_count": 0,
      "outputs": []
    },
    {
      "cell_type": "code",
      "metadata": {
        "id": "ctUCkKIGb9TM",
        "colab_type": "code",
        "colab": {
          "base_uri": "https://localhost:8080/",
          "height": 71
        },
        "outputId": "83914ecb-dc61-4c1e-8404-a98dbf4dae76"
      },
      "source": [
        "input_img = Input(shape=(input_shape_cifar), name='input_img')\n",
        "#l = Conv2D(64, kernel_size=(3,3), activation='relu')(input_img)\n",
        "l = Conv2D(64, kernel_size=(3,3),strides=(2,2),activation='relu', name='conv2d_1')(input_img)\n",
        "#l = Conv2D(32, (3, 3), activation='relu')(l)\n",
        "l = MaxPooling2D(pool_size=(2, 2))(l)\n",
        "l = Conv2D(32, (3, 3),strides=(2,2),activation='relu')(l)\n",
        "l= BatchNormalization(axis=-1,momentum=0.88,epsilon=0.001)(l)\n",
        "l = Conv2D(16, (3, 3),strides=(2,2),activation='relu')(l)\n",
        "l= BatchNormalization(axis=-1,momentum=0.88,epsilon=0.001)(l)\n",
        "l = Dropout(rate=0.25)(l)\n",
        "l = Flatten()(l)\n",
        "#l = Dense(128, activation='relu')(l)\n",
        "l = Dense(32, activation='relu')(l)\n",
        "l = Dropout(rate=0.5)(l)\n",
        "output_class = Dense(num_classes, activation='softmax')(l)\n",
        "model_normalized = Model(inputs=input_img, outputs=output_class)"
      ],
      "execution_count": 46,
      "outputs": [
        {
          "output_type": "stream",
          "text": [
            "WARNING:tensorflow:From /usr/local/lib/python3.6/dist-packages/keras/backend/tensorflow_backend.py:2041: The name tf.nn.fused_batch_norm is deprecated. Please use tf.compat.v1.nn.fused_batch_norm instead.\n",
            "\n"
          ],
          "name": "stdout"
        }
      ]
    },
    {
      "cell_type": "code",
      "metadata": {
        "id": "RZlzB5_5b9TX",
        "colab_type": "code",
        "colab": {}
      },
      "source": [
        "adam = Adam(lr=0.001)\n",
        "model_normalized.compile(loss='categorical_crossentropy', \n",
        "              optimizer=adam, \n",
        "              metrics=['accuracy'])"
      ],
      "execution_count": 0,
      "outputs": []
    },
    {
      "cell_type": "code",
      "metadata": {
        "id": "HpddY6jtb9Tb",
        "colab_type": "code",
        "outputId": "2923057b-ef71-43a3-e9f2-658c9d6d4f75",
        "colab": {
          "base_uri": "https://localhost:8080/",
          "height": 561
        }
      },
      "source": [
        "plot_model(model_normalized, model_name+'/'+model_name+'.png')\n",
        "model_normalized.summary()"
      ],
      "execution_count": 48,
      "outputs": [
        {
          "output_type": "stream",
          "text": [
            "Model: \"model_10\"\n",
            "_________________________________________________________________\n",
            "Layer (type)                 Output Shape              Param #   \n",
            "=================================================================\n",
            "input_img (InputLayer)       (None, 32, 32, 3)         0         \n",
            "_________________________________________________________________\n",
            "conv2d_1 (Conv2D)            (None, 15, 15, 64)        1792      \n",
            "_________________________________________________________________\n",
            "max_pooling2d_4 (MaxPooling2 (None, 7, 7, 64)          0         \n",
            "_________________________________________________________________\n",
            "conv2d_14 (Conv2D)           (None, 3, 3, 32)          18464     \n",
            "_________________________________________________________________\n",
            "batch_normalization_1 (Batch (None, 3, 3, 32)          128       \n",
            "_________________________________________________________________\n",
            "conv2d_15 (Conv2D)           (None, 1, 1, 16)          4624      \n",
            "_________________________________________________________________\n",
            "batch_normalization_2 (Batch (None, 1, 1, 16)          64        \n",
            "_________________________________________________________________\n",
            "dropout_3 (Dropout)          (None, 1, 1, 16)          0         \n",
            "_________________________________________________________________\n",
            "flatten_10 (Flatten)         (None, 16)                0         \n",
            "_________________________________________________________________\n",
            "dense_19 (Dense)             (None, 32)                544       \n",
            "_________________________________________________________________\n",
            "dropout_4 (Dropout)          (None, 32)                0         \n",
            "_________________________________________________________________\n",
            "dense_20 (Dense)             (None, 10)                330       \n",
            "=================================================================\n",
            "Total params: 25,946\n",
            "Trainable params: 25,850\n",
            "Non-trainable params: 96\n",
            "_________________________________________________________________\n"
          ],
          "name": "stdout"
        }
      ]
    },
    {
      "cell_type": "code",
      "metadata": {
        "id": "1NoMzyLsb9Tx",
        "colab_type": "code",
        "colab": {}
      },
      "source": [
        "# Add the following checkpoints: ModelCheckpoint, CSVLogger\n",
        "checkpoint = ModelCheckpoint(model_name+'/'+model_name+'-{epoch:02d}-{val_loss:.2f}.h5', \n",
        "                             monitor='val_loss', verbose=1, save_best_only=True, mode='auto')\n",
        "cvslogger = CSVLogger(model_name+'/logs.csv', separator=',', append=True)\n",
        "tensorboard = LRTensorBoard(log_dir='./'+model_name, histogram_freq=0, write_graph=True, write_grads=1, \n",
        "                            batch_size=batch_size, write_images=True)\n",
        "\n",
        "#reducelr = ReduceLROnPlateau(monitor='val_loss', factor=0.2, patience=3, min_lr=0.000001, min_delta=0.03)\n",
        "#callbacks = [checkpoint, tensorboard, csvlogger, reducelr]\n",
        "callbacks = [checkpoint, tensorboard, csvlogger]"
      ],
      "execution_count": 0,
      "outputs": []
    },
    {
      "cell_type": "code",
      "metadata": {
        "id": "wRi3i3M0b9T9",
        "colab_type": "code",
        "colab": {}
      },
      "source": [
        "# Create three generators\n",
        "train_gen=data_generator(train_files,batch_size,'Norm')\n",
        "test_gen=data_generator(test_files,batch_size,'Norm')\n",
        "val_gen=data_generator(val_files,batch_size,'Norm')\n",
        "vald,valt=next(val_gen)"
      ],
      "execution_count": 0,
      "outputs": []
    },
    {
      "cell_type": "code",
      "metadata": {
        "scrolled": true,
        "id": "Y27fcnpvb9UH",
        "colab_type": "code",
        "outputId": "b286aacd-05c7-4c2a-d9c7-9f6aadb9548f",
        "colab": {
          "base_uri": "https://localhost:8080/",
          "height": 1000
        }
      },
      "source": [
        "hist_normalized = model_normalized.fit_generator(train_gen, epochs=epochs, steps_per_epoch=(len(train_files)//batch_size),\n",
        "                           validation_data=(vald,valt),validation_steps=(len(val_files)//batch_size),\n",
        "                           callbacks=callbacks, verbose=1)\n",
        "all_histories.append(hist_normalized)"
      ],
      "execution_count": 51,
      "outputs": [
        {
          "output_type": "stream",
          "text": [
            "Epoch 1/25\n",
            "703/703 [==============================] - 11s 16ms/step - loss: 2.0509 - acc: 0.2440 - val_loss: 1.5578 - val_acc: 0.4531\n",
            "\n",
            "Epoch 00001: val_loss improved from inf to 1.55776, saving model to model_batch_normalized/model_batch_normalized-01-1.56.h5\n",
            "Epoch 2/25\n",
            "703/703 [==============================] - 11s 16ms/step - loss: 1.7084 - acc: 0.3645 - val_loss: 1.3397 - val_acc: 0.5781\n",
            "\n",
            "Epoch 00002: val_loss improved from 1.55776 to 1.33970, saving model to model_batch_normalized/model_batch_normalized-02-1.34.h5\n",
            "Epoch 3/25\n",
            "703/703 [==============================] - 11s 16ms/step - loss: 1.6027 - acc: 0.4141 - val_loss: 1.2561 - val_acc: 0.5312\n",
            "\n",
            "Epoch 00003: val_loss improved from 1.33970 to 1.25612, saving model to model_batch_normalized/model_batch_normalized-03-1.26.h5\n",
            "Epoch 4/25\n",
            "703/703 [==============================] - 11s 16ms/step - loss: 1.5343 - acc: 0.4446 - val_loss: 1.1924 - val_acc: 0.5781\n",
            "\n",
            "Epoch 00004: val_loss improved from 1.25612 to 1.19242, saving model to model_batch_normalized/model_batch_normalized-04-1.19.h5\n",
            "Epoch 5/25\n",
            "703/703 [==============================] - 11s 16ms/step - loss: 1.4917 - acc: 0.4623 - val_loss: 1.3021 - val_acc: 0.5000\n",
            "\n",
            "Epoch 00005: val_loss did not improve from 1.19242\n",
            "Epoch 6/25\n",
            "703/703 [==============================] - 11s 16ms/step - loss: 1.4477 - acc: 0.4805 - val_loss: 1.1418 - val_acc: 0.5469\n",
            "\n",
            "Epoch 00006: val_loss improved from 1.19242 to 1.14178, saving model to model_batch_normalized/model_batch_normalized-06-1.14.h5\n",
            "Epoch 7/25\n",
            "703/703 [==============================] - 11s 15ms/step - loss: 1.4077 - acc: 0.5000 - val_loss: 1.1216 - val_acc: 0.5469\n",
            "\n",
            "Epoch 00007: val_loss improved from 1.14178 to 1.12163, saving model to model_batch_normalized/model_batch_normalized-07-1.12.h5\n",
            "Epoch 8/25\n",
            "703/703 [==============================] - 11s 15ms/step - loss: 1.3880 - acc: 0.5093 - val_loss: 1.2021 - val_acc: 0.5781\n",
            "\n",
            "Epoch 00008: val_loss did not improve from 1.12163\n",
            "Epoch 9/25\n",
            "703/703 [==============================] - 11s 16ms/step - loss: 1.3652 - acc: 0.5175 - val_loss: 1.0142 - val_acc: 0.5625\n",
            "\n",
            "Epoch 00009: val_loss improved from 1.12163 to 1.01423, saving model to model_batch_normalized/model_batch_normalized-09-1.01.h5\n",
            "Epoch 10/25\n",
            "703/703 [==============================] - 11s 16ms/step - loss: 1.3515 - acc: 0.5252 - val_loss: 0.9507 - val_acc: 0.6875\n",
            "\n",
            "Epoch 00010: val_loss improved from 1.01423 to 0.95068, saving model to model_batch_normalized/model_batch_normalized-10-0.95.h5\n",
            "Epoch 11/25\n",
            "703/703 [==============================] - 11s 16ms/step - loss: 1.3340 - acc: 0.5321 - val_loss: 1.0797 - val_acc: 0.5312\n",
            "\n",
            "Epoch 00011: val_loss did not improve from 0.95068\n",
            "Epoch 12/25\n",
            "703/703 [==============================] - 11s 16ms/step - loss: 1.3130 - acc: 0.5409 - val_loss: 1.0317 - val_acc: 0.5938\n",
            "\n",
            "Epoch 00012: val_loss did not improve from 0.95068\n",
            "Epoch 13/25\n",
            "703/703 [==============================] - 11s 16ms/step - loss: 1.3129 - acc: 0.5411 - val_loss: 1.0452 - val_acc: 0.5625\n",
            "\n",
            "Epoch 00013: val_loss did not improve from 0.95068\n",
            "Epoch 14/25\n",
            "703/703 [==============================] - 11s 16ms/step - loss: 1.2955 - acc: 0.5462 - val_loss: 1.0046 - val_acc: 0.6406\n",
            "\n",
            "Epoch 00014: val_loss did not improve from 0.95068\n",
            "Epoch 15/25\n",
            "703/703 [==============================] - 11s 16ms/step - loss: 1.2874 - acc: 0.5527 - val_loss: 0.9567 - val_acc: 0.5938\n",
            "\n",
            "Epoch 00015: val_loss did not improve from 0.95068\n",
            "Epoch 16/25\n",
            "703/703 [==============================] - 11s 15ms/step - loss: 1.2794 - acc: 0.5523 - val_loss: 0.9319 - val_acc: 0.5938\n",
            "\n",
            "Epoch 00016: val_loss improved from 0.95068 to 0.93188, saving model to model_batch_normalized/model_batch_normalized-16-0.93.h5\n",
            "Epoch 17/25\n",
            "703/703 [==============================] - 11s 16ms/step - loss: 1.2750 - acc: 0.5538 - val_loss: 1.0073 - val_acc: 0.5469\n",
            "\n",
            "Epoch 00017: val_loss did not improve from 0.93188\n",
            "Epoch 18/25\n",
            "703/703 [==============================] - 11s 16ms/step - loss: 1.2751 - acc: 0.5550 - val_loss: 1.0182 - val_acc: 0.5156\n",
            "\n",
            "Epoch 00018: val_loss did not improve from 0.93188\n",
            "Epoch 19/25\n",
            "703/703 [==============================] - 11s 15ms/step - loss: 1.2605 - acc: 0.5589 - val_loss: 1.0171 - val_acc: 0.5938\n",
            "\n",
            "Epoch 00019: val_loss did not improve from 0.93188\n",
            "Epoch 20/25\n",
            "703/703 [==============================] - 11s 16ms/step - loss: 1.2553 - acc: 0.5622 - val_loss: 0.9898 - val_acc: 0.6250\n",
            "\n",
            "Epoch 00020: val_loss did not improve from 0.93188\n",
            "Epoch 21/25\n",
            "703/703 [==============================] - 11s 16ms/step - loss: 1.2460 - acc: 0.5664 - val_loss: 0.9618 - val_acc: 0.5938\n",
            "\n",
            "Epoch 00021: val_loss did not improve from 0.93188\n",
            "Epoch 22/25\n",
            "703/703 [==============================] - 11s 15ms/step - loss: 1.2472 - acc: 0.5652 - val_loss: 0.9343 - val_acc: 0.5938\n",
            "\n",
            "Epoch 00022: val_loss did not improve from 0.93188\n",
            "Epoch 23/25\n",
            "703/703 [==============================] - 11s 16ms/step - loss: 1.2348 - acc: 0.5702 - val_loss: 0.9080 - val_acc: 0.5938\n",
            "\n",
            "Epoch 00023: val_loss improved from 0.93188 to 0.90803, saving model to model_batch_normalized/model_batch_normalized-23-0.91.h5\n",
            "Epoch 24/25\n",
            "703/703 [==============================] - 11s 16ms/step - loss: 1.2300 - acc: 0.5719 - val_loss: 0.9035 - val_acc: 0.6719\n",
            "\n",
            "Epoch 00024: val_loss improved from 0.90803 to 0.90353, saving model to model_batch_normalized/model_batch_normalized-24-0.90.h5\n",
            "Epoch 25/25\n",
            "703/703 [==============================] - 11s 16ms/step - loss: 1.2313 - acc: 0.5720 - val_loss: 0.9309 - val_acc: 0.5938\n",
            "\n",
            "Epoch 00025: val_loss did not improve from 0.90353\n"
          ],
          "name": "stdout"
        }
      ]
    },
    {
      "cell_type": "markdown",
      "metadata": {
        "id": "EYY1TnCzb9UM",
        "colab_type": "text"
      },
      "source": [
        "### Task 5.1 Comparison of all models\n",
        "In this task you need to plot the loss and accuracy for all models and __discuss__ which model has better performance and why do you think so."
      ]
    },
    {
      "cell_type": "code",
      "metadata": {
        "id": "r8E8Pjfjb9UN",
        "colab_type": "code",
        "colab": {}
      },
      "source": [
        "# Plot accuracy of all models\n",
        "def plotHistory(histories, names, metric):\n",
        "    plt.clf() \n",
        "    x_axis = list(range(epochs))\n",
        "    for hist, name in zip(histories, names):\n",
        "        plt.plot(x_axis, hist.history[metric], label=metric+'_'+name)\n",
        "        plt.scatter(x_axis, hist.history[metric])\n",
        "    plt.legend()\n",
        "    plt.title(metric)\n",
        "    plt.show()"
      ],
      "execution_count": 0,
      "outputs": []
    },
    {
      "cell_type": "code",
      "metadata": {
        "id": "cCp4qdwZb9UX",
        "colab_type": "code",
        "outputId": "86e640f8-d055-4615-c23f-8ac3f585bea0",
        "colab": {
          "base_uri": "https://localhost:8080/",
          "height": 1000
        }
      },
      "source": [
        "# Plot histories of all models\n",
        "nam=['base_model','model_preprocessed_input','model_pooling','model_dropout','model_batch_normalized']\n",
        "plotHistory(all_histories,nam,'val_acc')\n",
        "plotHistory(all_histories,nam,'acc')\n",
        "plotHistory(all_histories,nam,'val_loss')\n",
        "plotHistory(all_histories,nam,'loss')\n"
      ],
      "execution_count": 53,
      "outputs": [
        {
          "output_type": "display_data",
          "data": {
            "image/png": "[encoded data removed]",
            "text/plain": [
              "<Figure size 576x396 with 1 Axes>"
            ]
          },
          "metadata": {
            "tags": []
          }
        },
        {
          "output_type": "display_data",
          "data": {
            "image/png": "[encoded data removed]",
            "text/plain": [
              "<Figure size 576x396 with 1 Axes>"
            ]
          },
          "metadata": {
            "tags": []
          }
        },
        {
          "output_type": "display_data",
          "data": {
            "image/png": "[encoded data removed]",
            "text/plain": [
              "<Figure size 576x396 with 1 Axes>"
            ]
          },
          "metadata": {
            "tags": []
          }
        },
        {
          "output_type": "display_data",
          "data": {
            "image/png": "[encoded data removed]",
            "text/plain": [
              "<Figure size 576x396 with 1 Axes>"
            ]
          },
          "metadata": {
            "tags": []
          }
        }
      ]
    },
    {
      "cell_type": "markdown",
      "metadata": {
        "id": "Hz-m42uob9Ub",
        "colab_type": "text"
      },
      "source": [
        "#### Tensorboard \n",
        "We will be covering Tensorboard in Friday's tutorial. You can complete this part after the tutorial (21st Feb 2020)"
      ]
    },
    {
      "cell_type": "markdown",
      "metadata": {
        "id": "3uI2daNsb9Ue",
        "colab_type": "text"
      },
      "source": [
        "You can run TensorBoard using the following command\n",
        "```tensorboard --logdir=path/to/log-directory\n",
        "```\n",
        "Now for logs of all above trained models, take snapshot of the _loss_ and _accuracy_ plots and save in the directory where this notebook is. To show that saved plot here in notebook use following command in _markdown_ cell. \n",
        "<br> __![](path_to_image)__"
      ]
    },
    {
      "cell_type": "code",
      "metadata": {
        "id": "iSchB2u10SGb",
        "colab_type": "code",
        "colab": {
          "base_uri": "https://localhost:8080/",
          "height": 129
        },
        "outputId": "1f25f01d-b7b2-4066-921f-adf98f682779"
      },
      "source": [
        "tensorboard --logdir=path/to/log-directory/"
      ],
      "execution_count": 117,
      "outputs": [
        {
          "output_type": "error",
          "ename": "SyntaxError",
          "evalue": "ignored",
          "traceback": [
            "\u001b[0;36m  File \u001b[0;32m\"<ipython-input-117-f00a574b6d96>\"\u001b[0;36m, line \u001b[0;32m1\u001b[0m\n\u001b[0;31m    tensorboard --logdir=path/to/log-directory/content/base_model\u001b[0m\n\u001b[0m                                                                 ^\u001b[0m\n\u001b[0;31mSyntaxError\u001b[0m\u001b[0;31m:\u001b[0m can't assign to operator\n"
          ]
        }
      ]
    },
    {
      "cell_type": "markdown",
      "metadata": {
        "id": "StmF-QZub9VN",
        "colab_type": "text"
      },
      "source": [
        "**Add cells to include loss plots**"
      ]
    },
    {
      "cell_type": "markdown",
      "metadata": {
        "id": "ba4ZMM2Vb9VP",
        "colab_type": "text"
      },
      "source": [
        "##### Add your analysis here"
      ]
    },
    {
      "cell_type": "markdown",
      "metadata": {
        "id": "LrAg2lXcb9VY",
        "colab_type": "text"
      },
      "source": [
        ""
      ]
    },
    {
      "cell_type": "markdown",
      "metadata": {
        "id": "Qs6XARCxb9Vb",
        "colab_type": "text"
      },
      "source": [
        "### Task 5.2 Visualize Activations\n",
        "We will be covering this in Friday's tutorial. You can complete this part after the tutorial (21st Feb 2020). In this task, you are required to visualize the activations (outputs) of both the convolution layers of a model."
      ]
    },
    {
      "cell_type": "code",
      "metadata": {
        "id": "31gUQw4fb9Ve",
        "colab_type": "code",
        "outputId": "5095ac91-caae-4487-e7e7-840eff384873",
        "colab": {
          "base_uri": "https://localhost:8080/",
          "height": 364
        }
      },
      "source": [
        "# Load any image here\n",
        "#test_image = None\n",
        "test_image =cv2.imread(val_files[221])\n",
        "plt.imshow(test_image)"
      ],
      "execution_count": 108,
      "outputs": [
        {
          "output_type": "execute_result",
          "data": {
            "text/plain": [
              "<matplotlib.image.AxesImage at 0x7f39631dcc18>"
            ]
          },
          "metadata": {
            "tags": []
          },
          "execution_count": 108
        },
        {
          "output_type": "display_data",
          "data": {
            "image/png": "[encoded data removed]",
            "text/plain": [
              "<Figure size 576x396 with 1 Axes>"
            ]
          },
          "metadata": {
            "tags": []
          }
        }
      ]
    },
    {
      "cell_type": "code",
      "metadata": {
        "id": "AhZSQOoZb9Vn",
        "colab_type": "code",
        "outputId": "0fa09748-1575-438b-d9a3-97a2b648ed0e",
        "colab": {
          "base_uri": "https://localhost:8080/",
          "height": 368
        }
      },
      "source": [
        "plt.gca().grid(False);\n",
        "\n",
        "test_reshaped = test_image.reshape((1,32,32,3))\n",
        "\n",
        "# Get a prediction from ANY ONE of your models and output its label\n",
        "model_pooled.predict(test_image.reshape((1,32,32,3))).argmax(axis=1)"
      ],
      "execution_count": 109,
      "outputs": [
        {
          "output_type": "execute_result",
          "data": {
            "text/plain": [
              "array([5])"
            ]
          },
          "metadata": {
            "tags": []
          },
          "execution_count": 109
        },
        {
          "output_type": "display_data",
          "data": {
            "image/png": "[encoded data removed]",
            "text/plain": [
              "<Figure size 576x396 with 1 Axes>"
            ]
          },
          "metadata": {
            "tags": []
          }
        }
      ]
    },
    {
      "cell_type": "code",
      "metadata": {
        "id": "X3wxGathb9Vq",
        "colab_type": "code",
        "colab": {}
      },
      "source": [
        "# Create a Model from the Input layer to a Convolutional Layer\n",
        "new_model = Model(inputs=input_img, \n",
        "                  outputs=model_pooled.get_layer('conv2d_1').output)"
      ],
      "execution_count": 0,
      "outputs": []
    },
    {
      "cell_type": "code",
      "metadata": {
        "id": "MD7wkcKAb9Vw",
        "colab_type": "code",
        "outputId": "6850c831-0436-4be3-8fb1-8523f60bfea8",
        "colab": {
          "base_uri": "https://localhost:8080/",
          "height": 355
        }
      },
      "source": [
        "# Get a prediction for your chosen image using this model\n",
        "#predicted_activations = None\n",
        "con1_activations = new_model.predict(test_reshaped.reshape((1,32,32,3)))\n",
        "con1_activations.shape\n",
        "plt.matshow(con1_activations[0,:,:,0],cmap='viridis')\n",
        "predicted_activations=con1_activations\n",
        "plt.show()"
      ],
      "execution_count": 111,
      "outputs": [
        {
          "output_type": "display_data",
          "data": {
            "image/png": "[encoded data removed]",
            "text/plain": [
              "<Figure size 396x396 with 1 Axes>"
            ]
          },
          "metadata": {
            "tags": []
          }
        }
      ]
    },
    {
      "cell_type": "code",
      "metadata": {
        "id": "YMllPN3Eb9V0",
        "colab_type": "code",
        "outputId": "f4560b59-76e3-4524-f3f5-07e7cdb76a37",
        "colab": {
          "base_uri": "https://localhost:8080/",
          "height": 1000
        }
      },
      "source": [
        "# Use your predictions to visualise the activations\n",
        "fig, axes = plt.subplots(nrows=8, ncols=4, figsize=(15,20), dpi=80)\n",
        "for i,ax in enumerate(axes.flatten()):\n",
        "    ax.imshow(predicted_activations[0,:,:,i]);\n",
        "    ax.grid(False);\n",
        "    ax.axis('off');"
      ],
      "execution_count": 112,
      "outputs": [
        {
          "output_type": "display_data",
          "data": {
            "image/png": "[encoded data removed]",
            "text/plain": [
              "<Figure size 1200x1600 with 32 Axes>"
            ]
          },
          "metadata": {
            "tags": []
          }
        }
      ]
    },
    {
      "cell_type": "code",
      "metadata": {
        "id": "kzMvE5Vxb9V4",
        "colab_type": "code",
        "colab": {}
      },
      "source": [
        "# Create another model to visualize activations from ANOTHER convolutional layer\n",
        "new_model2 = Model(inputs=input_img, \n",
        "                  outputs=model_pooled.get_layer('conv2d_2').output)"
      ],
      "execution_count": 0,
      "outputs": []
    },
    {
      "cell_type": "code",
      "metadata": {
        "id": "qjBSUfYzb9V7",
        "colab_type": "code",
        "outputId": "cfde7dee-90e1-42b8-e716-98ebd9382faa",
        "colab": {
          "base_uri": "https://localhost:8080/",
          "height": 355
        }
      },
      "source": [
        "# You may rename this variable\n",
        "#second_predicted_activations = None\n",
        "con1_activations = new_model2.predict(test_reshaped.reshape((1,32,32,3)))\n",
        "con1_activations.shape\n",
        "plt.matshow(con1_activations[0,:,:,0],cmap='viridis')\n",
        "second_predicted_activations=con1_activations\n",
        "plt.show()"
      ],
      "execution_count": 114,
      "outputs": [
        {
          "output_type": "display_data",
          "data": {
            "image/png": "[encoded data removed]",
            "text/plain": [
              "<Figure size 396x396 with 1 Axes>"
            ]
          },
          "metadata": {
            "tags": []
          }
        }
      ]
    },
    {
      "cell_type": "code",
      "metadata": {
        "id": "ccUAeOG0b9V9",
        "colab_type": "code",
        "outputId": "0cc23eb8-a5e0-43e2-f75f-f4cf874d5501",
        "colab": {
          "base_uri": "https://localhost:8080/",
          "height": 939
        }
      },
      "source": [
        "fig, axes = plt.subplots(nrows=4, ncols=4, figsize=(15,15), dpi=80)\n",
        "for i,ax in enumerate(axes.flatten()):\n",
        "    ax.imshow(second_predicted_activations[0,:,:,i]);\n",
        "    ax.grid(False);\n",
        "    ax.axis('off');"
      ],
      "execution_count": 115,
      "outputs": [
        {
          "output_type": "display_data",
          "data": {
            "image/png": "[encoded data removed]",
            "text/plain": [
              "<Figure size 1200x1200 with 16 Axes>"
            ]
          },
          "metadata": {
            "tags": []
          }
        }
      ]
    },
    {
      "cell_type": "markdown",
      "metadata": {
        "id": "79rwt9Rsb9WC",
        "colab_type": "text"
      },
      "source": [
        "Q) What features from your chosen image do you think your model has been able to learn? In terms of filters (weights), what goes on when we add more convolutional layers in our models?"
      ]
    },
    {
      "cell_type": "code",
      "metadata": {
        "id": "O9u144460JkY",
        "colab_type": "code",
        "colab": {}
      },
      "source": [
        "'''\n",
        "the filter has been fired for the white areas and has does been able to identify the edges of the thing in the picture.\n",
        "\n",
        "\n",
        "'''"
      ],
      "execution_count": 0,
      "outputs": []
    },
    {
      "cell_type": "markdown",
      "metadata": {
        "heading_collapsed": true,
        "id": "r4l9jUq6b9WG",
        "colab_type": "text"
      },
      "source": [
        "### Task 6.1  Effect of learning rate\n",
        "Take the best selected model in __Task 5.1__ and change its learning rate to: \n",
        "- 6.1.1 any value between 5 and 1.\n",
        "- 6.1.2 learning rate = any value between 0.6 and  0.1 \n",
        "- 6.1.3 learning rate = 0.00001\n",
        "\n",
        "and train these three models to compare the effect learning rate."
      ]
    },
    {
      "cell_type": "code",
      "metadata": {
        "hidden": true,
        "id": "RdwWlhCeb9WI",
        "colab_type": "code",
        "outputId": "1adb83fe-56a0-43ea-9eaa-0d686f66df89",
        "colab": {
          "base_uri": "https://localhost:8080/",
          "height": 1000
        }
      },
      "source": [
        "# 6.1.1\n",
        "model_name = 'model_pooling_6.1.1'\n",
        "\n",
        "input_img = Input(shape=(input_shape_cifar), name='input_img')\n",
        "#l = Conv2D(64, kernel_size=(3,3), activation='relu')(input_img)\n",
        "l = Conv2D(64, kernel_size=(3,3),strides=(2,2),activation='relu',name='conv2d_1')(input_img)\n",
        "#l = Conv2D(32, (3, 3), activation='relu')(l)\n",
        "l = MaxPooling2D(pool_size=(2, 2))(l)\n",
        "l = Conv2D(32, (3, 3),strides=(2,2),activation='relu',name='conv2d_2')(l)\n",
        "l = Conv2D(16, (3, 3),strides=(2,2),activation='relu')(l)\n",
        "l = Flatten()(l)\n",
        "#l = Dense(128, activation='relu')(l)\n",
        "l = Dense(32, activation='relu')(l)\n",
        "output_class = Dense(num_classes, activation='softmax')(l)\n",
        "model_pooled = Model(inputs=input_img, outputs=output_class)\n",
        "\n",
        "if not os.path.exists('./'+model_name):\n",
        "    os.mkdir(model_name)\n",
        "\n",
        "adam = Adam(lr=2.45)\n",
        "model_pooled.compile(loss='categorical_crossentropy', \n",
        "              optimizer=adam, \n",
        "              metrics=['accuracy'])\n",
        "\n",
        "hist_611 = model_pooled.fit_generator(train_gen, epochs=epochs, steps_per_epoch=(len(train_files)//batch_size),\n",
        "                           validation_data=(vald,valt),validation_steps=(len(val_files)//batch_size),\n",
        "                           callbacks=callbacks, verbose=1)\n",
        "all_histories.append(hist_pooled)"
      ],
      "execution_count": 97,
      "outputs": [
        {
          "output_type": "stream",
          "text": [
            "Epoch 1/25\n",
            "703/703 [==============================] - 11s 15ms/step - loss: 14.4860 - acc: 0.1001 - val_loss: 14.1033 - val_acc: 0.1250\n",
            "\n",
            "Epoch 00001: val_loss did not improve from 0.90353\n",
            "Epoch 2/25\n",
            "703/703 [==============================] - 10s 15ms/step - loss: 14.5071 - acc: 0.1000 - val_loss: 14.1033 - val_acc: 0.1250\n",
            "\n",
            "Epoch 00002: val_loss did not improve from 0.90353\n",
            "Epoch 3/25\n",
            "703/703 [==============================] - 11s 16ms/step - loss: 14.5071 - acc: 0.1000 - val_loss: 14.1033 - val_acc: 0.1250\n",
            "\n",
            "Epoch 00003: val_loss did not improve from 0.90353\n",
            "Epoch 4/25\n",
            "703/703 [==============================] - 12s 17ms/step - loss: 14.5071 - acc: 0.1000 - val_loss: 14.1033 - val_acc: 0.1250\n",
            "\n",
            "Epoch 00004: val_loss did not improve from 0.90353\n",
            "Epoch 5/25\n",
            "703/703 [==============================] - 10s 15ms/step - loss: 14.5071 - acc: 0.1000 - val_loss: 14.1033 - val_acc: 0.1250\n",
            "\n",
            "Epoch 00005: val_loss did not improve from 0.90353\n",
            "Epoch 6/25\n",
            "703/703 [==============================] - 10s 15ms/step - loss: 14.5071 - acc: 0.1000 - val_loss: 14.1033 - val_acc: 0.1250\n",
            "\n",
            "Epoch 00006: val_loss did not improve from 0.90353\n",
            "Epoch 7/25\n",
            "703/703 [==============================] - 10s 15ms/step - loss: 14.5071 - acc: 0.1000 - val_loss: 14.1033 - val_acc: 0.1250\n",
            "\n",
            "Epoch 00007: val_loss did not improve from 0.90353\n",
            "Epoch 8/25\n",
            "703/703 [==============================] - 10s 15ms/step - loss: 14.5071 - acc: 0.1000 - val_loss: 14.1033 - val_acc: 0.1250\n",
            "\n",
            "Epoch 00008: val_loss did not improve from 0.90353\n",
            "Epoch 9/25\n",
            "703/703 [==============================] - 10s 15ms/step - loss: 14.5071 - acc: 0.1000 - val_loss: 14.1033 - val_acc: 0.1250\n",
            "\n",
            "Epoch 00009: val_loss did not improve from 0.90353\n",
            "Epoch 10/25\n",
            "703/703 [==============================] - 10s 15ms/step - loss: 14.5071 - acc: 0.1000 - val_loss: 14.1033 - val_acc: 0.1250\n",
            "\n",
            "Epoch 00010: val_loss did not improve from 0.90353\n",
            "Epoch 11/25\n",
            "703/703 [==============================] - 10s 15ms/step - loss: 14.5071 - acc: 0.1000 - val_loss: 14.1033 - val_acc: 0.1250\n",
            "\n",
            "Epoch 00011: val_loss did not improve from 0.90353\n",
            "Epoch 12/25\n",
            "703/703 [==============================] - 10s 15ms/step - loss: 14.5071 - acc: 0.1000 - val_loss: 14.1033 - val_acc: 0.1250\n",
            "\n",
            "Epoch 00012: val_loss did not improve from 0.90353\n",
            "Epoch 13/25\n",
            "703/703 [==============================] - 10s 14ms/step - loss: 14.5071 - acc: 0.1000 - val_loss: 14.1033 - val_acc: 0.1250\n",
            "\n",
            "Epoch 00013: val_loss did not improve from 0.90353\n",
            "Epoch 14/25\n",
            "703/703 [==============================] - 10s 15ms/step - loss: 14.5071 - acc: 0.1000 - val_loss: 14.1033 - val_acc: 0.1250\n",
            "\n",
            "Epoch 00014: val_loss did not improve from 0.90353\n",
            "Epoch 15/25\n",
            "703/703 [==============================] - 10s 15ms/step - loss: 14.5071 - acc: 0.1000 - val_loss: 14.1033 - val_acc: 0.1250\n",
            "\n",
            "Epoch 00015: val_loss did not improve from 0.90353\n",
            "Epoch 16/25\n",
            "703/703 [==============================] - 10s 14ms/step - loss: 14.5071 - acc: 0.1000 - val_loss: 14.1033 - val_acc: 0.1250\n",
            "\n",
            "Epoch 00016: val_loss did not improve from 0.90353\n",
            "Epoch 17/25\n",
            "703/703 [==============================] - 10s 14ms/step - loss: 14.5071 - acc: 0.1000 - val_loss: 14.1033 - val_acc: 0.1250\n",
            "\n",
            "Epoch 00017: val_loss did not improve from 0.90353\n",
            "Epoch 18/25\n",
            "703/703 [==============================] - 10s 15ms/step - loss: 14.5071 - acc: 0.1000 - val_loss: 14.1033 - val_acc: 0.1250\n",
            "\n",
            "Epoch 00018: val_loss did not improve from 0.90353\n",
            "Epoch 19/25\n",
            "703/703 [==============================] - 10s 15ms/step - loss: 14.5071 - acc: 0.1000 - val_loss: 14.1033 - val_acc: 0.1250\n",
            "\n",
            "Epoch 00019: val_loss did not improve from 0.90353\n",
            "Epoch 20/25\n",
            "703/703 [==============================] - 10s 15ms/step - loss: 14.5071 - acc: 0.1000 - val_loss: 14.1033 - val_acc: 0.1250\n",
            "\n",
            "Epoch 00020: val_loss did not improve from 0.90353\n",
            "Epoch 21/25\n",
            "703/703 [==============================] - 10s 15ms/step - loss: 14.5071 - acc: 0.1000 - val_loss: 14.1033 - val_acc: 0.1250\n",
            "\n",
            "Epoch 00021: val_loss did not improve from 0.90353\n",
            "Epoch 22/25\n",
            "703/703 [==============================] - 10s 14ms/step - loss: 14.5071 - acc: 0.1000 - val_loss: 14.1033 - val_acc: 0.1250\n",
            "\n",
            "Epoch 00022: val_loss did not improve from 0.90353\n",
            "Epoch 23/25\n",
            "703/703 [==============================] - 10s 15ms/step - loss: 14.5071 - acc: 0.1000 - val_loss: 14.1033 - val_acc: 0.1250\n",
            "\n",
            "Epoch 00023: val_loss did not improve from 0.90353\n",
            "Epoch 24/25\n",
            "703/703 [==============================] - 11s 15ms/step - loss: 14.5071 - acc: 0.1000 - val_loss: 14.1033 - val_acc: 0.1250\n",
            "\n",
            "Epoch 00024: val_loss did not improve from 0.90353\n",
            "Epoch 25/25\n",
            "703/703 [==============================] - 10s 15ms/step - loss: 14.5071 - acc: 0.1000 - val_loss: 14.1033 - val_acc: 0.1250\n",
            "\n",
            "Epoch 00025: val_loss did not improve from 0.90353\n"
          ],
          "name": "stdout"
        }
      ]
    },
    {
      "cell_type": "code",
      "metadata": {
        "id": "3DyixcyNVFX_",
        "colab_type": "code",
        "outputId": "689cc4ed-62f4-4cf5-c57c-dfc4289bbba1",
        "colab": {
          "base_uri": "https://localhost:8080/",
          "height": 1000
        }
      },
      "source": [
        "#6.1.2\n",
        "model_name = 'model_pooling_6.1.2'\n",
        "\n",
        "input_img = Input(shape=(input_shape_cifar), name='input_img')\n",
        "#l = Conv2D(64, kernel_size=(3,3), activation='relu')(input_img)\n",
        "l = Conv2D(64, kernel_size=(3,3),strides=(2,2),activation='relu',name='conv2d_1')(input_img)\n",
        "#l = Conv2D(32, (3, 3), activation='relu')(l)\n",
        "l = MaxPooling2D(pool_size=(2, 2))(l)\n",
        "l = Conv2D(32, (3, 3),strides=(2,2),activation='relu',name='conv2d_2')(l)\n",
        "l = Conv2D(16, (3, 3),strides=(2,2),activation='relu')(l)\n",
        "l = Flatten()(l)\n",
        "#l = Dense(128, activation='relu')(l)\n",
        "l = Dense(32, activation='relu')(l)\n",
        "output_class = Dense(num_classes, activation='softmax')(l)\n",
        "model_pooled = Model(inputs=input_img, outputs=output_class)\n",
        "\n",
        "if not os.path.exists('./'+model_name):\n",
        "    os.mkdir(model_name)\n",
        "\n",
        "adam = Adam(lr=0.7)\n",
        "model_pooled.compile(loss='categorical_crossentropy', \n",
        "              optimizer=adam, \n",
        "              metrics=['accuracy'])\n",
        "\n",
        "hist_612 = model_pooled.fit_generator(train_gen, epochs=epochs, steps_per_epoch=(len(train_files)//batch_size),\n",
        "                           validation_data=(vald,valt),validation_steps=(len(val_files)//batch_size),\n",
        "                           callbacks=callbacks, verbose=1)\n",
        "all_histories.append(hist_pooled)"
      ],
      "execution_count": 98,
      "outputs": [
        {
          "output_type": "stream",
          "text": [
            "Epoch 1/25\n",
            "703/703 [==============================] - 11s 15ms/step - loss: 14.4935 - acc: 0.0997 - val_loss: 14.6070 - val_acc: 0.0938\n",
            "\n",
            "Epoch 00001: val_loss did not improve from 0.90353\n",
            "Epoch 2/25\n",
            "703/703 [==============================] - 10s 14ms/step - loss: 14.5099 - acc: 0.0998 - val_loss: 14.6070 - val_acc: 0.0938\n",
            "\n",
            "Epoch 00002: val_loss did not improve from 0.90353\n",
            "Epoch 3/25\n",
            "703/703 [==============================] - 10s 15ms/step - loss: 14.5099 - acc: 0.0998 - val_loss: 14.6070 - val_acc: 0.0938\n",
            "\n",
            "Epoch 00003: val_loss did not improve from 0.90353\n",
            "Epoch 4/25\n",
            "703/703 [==============================] - 10s 14ms/step - loss: 14.5099 - acc: 0.0998 - val_loss: 14.6070 - val_acc: 0.0938\n",
            "\n",
            "Epoch 00004: val_loss did not improve from 0.90353\n",
            "Epoch 5/25\n",
            "703/703 [==============================] - 10s 14ms/step - loss: 14.5099 - acc: 0.0998 - val_loss: 14.6070 - val_acc: 0.0938\n",
            "\n",
            "Epoch 00005: val_loss did not improve from 0.90353\n",
            "Epoch 6/25\n",
            "703/703 [==============================] - 10s 14ms/step - loss: 14.5099 - acc: 0.0998 - val_loss: 14.6070 - val_acc: 0.0938\n",
            "\n",
            "Epoch 00006: val_loss did not improve from 0.90353\n",
            "Epoch 7/25\n",
            "703/703 [==============================] - 10s 14ms/step - loss: 14.5099 - acc: 0.0998 - val_loss: 14.6070 - val_acc: 0.0938\n",
            "\n",
            "Epoch 00007: val_loss did not improve from 0.90353\n",
            "Epoch 8/25\n",
            "703/703 [==============================] - 10s 14ms/step - loss: 14.5099 - acc: 0.0998 - val_loss: 14.6070 - val_acc: 0.0938\n",
            "\n",
            "Epoch 00008: val_loss did not improve from 0.90353\n",
            "Epoch 9/25\n",
            "703/703 [==============================] - 10s 14ms/step - loss: 14.5099 - acc: 0.0998 - val_loss: 14.6070 - val_acc: 0.0938\n",
            "\n",
            "Epoch 00009: val_loss did not improve from 0.90353\n",
            "Epoch 10/25\n",
            "703/703 [==============================] - 10s 14ms/step - loss: 14.5099 - acc: 0.0998 - val_loss: 14.6070 - val_acc: 0.0938\n",
            "\n",
            "Epoch 00010: val_loss did not improve from 0.90353\n",
            "Epoch 11/25\n",
            "703/703 [==============================] - 10s 14ms/step - loss: 14.5099 - acc: 0.0998 - val_loss: 14.6070 - val_acc: 0.0938\n",
            "\n",
            "Epoch 00011: val_loss did not improve from 0.90353\n",
            "Epoch 12/25\n",
            "703/703 [==============================] - 10s 14ms/step - loss: 14.5099 - acc: 0.0998 - val_loss: 14.6070 - val_acc: 0.0938\n",
            "\n",
            "Epoch 00012: val_loss did not improve from 0.90353\n",
            "Epoch 13/25\n",
            "703/703 [==============================] - 10s 14ms/step - loss: 14.5099 - acc: 0.0998 - val_loss: 14.6070 - val_acc: 0.0938\n",
            "\n",
            "Epoch 00013: val_loss did not improve from 0.90353\n",
            "Epoch 14/25\n",
            "703/703 [==============================] - 10s 14ms/step - loss: 14.5099 - acc: 0.0998 - val_loss: 14.6070 - val_acc: 0.0938\n",
            "\n",
            "Epoch 00014: val_loss did not improve from 0.90353\n",
            "Epoch 15/25\n",
            "703/703 [==============================] - 10s 14ms/step - loss: 14.5099 - acc: 0.0998 - val_loss: 14.6070 - val_acc: 0.0938\n",
            "\n",
            "Epoch 00015: val_loss did not improve from 0.90353\n",
            "Epoch 16/25\n",
            "703/703 [==============================] - 10s 14ms/step - loss: 14.5099 - acc: 0.0998 - val_loss: 14.6070 - val_acc: 0.0938\n",
            "\n",
            "Epoch 00016: val_loss did not improve from 0.90353\n",
            "Epoch 17/25\n",
            "703/703 [==============================] - 10s 14ms/step - loss: 14.5099 - acc: 0.0998 - val_loss: 14.6070 - val_acc: 0.0938\n",
            "\n",
            "Epoch 00017: val_loss did not improve from 0.90353\n",
            "Epoch 18/25\n",
            "703/703 [==============================] - 10s 14ms/step - loss: 14.5099 - acc: 0.0998 - val_loss: 14.6070 - val_acc: 0.0938\n",
            "\n",
            "Epoch 00018: val_loss did not improve from 0.90353\n",
            "Epoch 19/25\n",
            "703/703 [==============================] - 10s 14ms/step - loss: 14.5099 - acc: 0.0998 - val_loss: 14.6070 - val_acc: 0.0938\n",
            "\n",
            "Epoch 00019: val_loss did not improve from 0.90353\n",
            "Epoch 20/25\n",
            "703/703 [==============================] - 10s 14ms/step - loss: 14.5099 - acc: 0.0998 - val_loss: 14.6070 - val_acc: 0.0938\n",
            "\n",
            "Epoch 00020: val_loss did not improve from 0.90353\n",
            "Epoch 21/25\n",
            "703/703 [==============================] - 10s 14ms/step - loss: 14.5099 - acc: 0.0998 - val_loss: 14.6070 - val_acc: 0.0938\n",
            "\n",
            "Epoch 00021: val_loss did not improve from 0.90353\n",
            "Epoch 22/25\n",
            "703/703 [==============================] - 10s 14ms/step - loss: 14.5099 - acc: 0.0998 - val_loss: 14.6070 - val_acc: 0.0938\n",
            "\n",
            "Epoch 00022: val_loss did not improve from 0.90353\n",
            "Epoch 23/25\n",
            "703/703 [==============================] - 10s 14ms/step - loss: 14.5099 - acc: 0.0998 - val_loss: 14.6070 - val_acc: 0.0938\n",
            "\n",
            "Epoch 00023: val_loss did not improve from 0.90353\n",
            "Epoch 24/25\n",
            "703/703 [==============================] - 10s 14ms/step - loss: 14.5099 - acc: 0.0998 - val_loss: 14.6070 - val_acc: 0.0938\n",
            "\n",
            "Epoch 00024: val_loss did not improve from 0.90353\n",
            "Epoch 25/25\n",
            "703/703 [==============================] - 10s 14ms/step - loss: 14.5099 - acc: 0.0998 - val_loss: 14.6070 - val_acc: 0.0938\n",
            "\n",
            "Epoch 00025: val_loss did not improve from 0.90353\n"
          ],
          "name": "stdout"
        }
      ]
    },
    {
      "cell_type": "code",
      "metadata": {
        "id": "Iv0Xi92sWN7T",
        "colab_type": "code",
        "outputId": "da0b1db4-e3df-4fab-893a-2853ff0c13f5",
        "colab": {
          "base_uri": "https://localhost:8080/",
          "height": 1000
        }
      },
      "source": [
        "#6.1.3\n",
        "model_name = 'model_pooling_6.1.3'\n",
        "\n",
        "input_img = Input(shape=(input_shape_cifar), name='input_img')\n",
        "#l = Conv2D(64, kernel_size=(3,3), activation='relu')(input_img)\n",
        "l = Conv2D(64, kernel_size=(3,3),strides=(2,2),activation='relu',name='conv2d_1')(input_img)\n",
        "#l = Conv2D(32, (3, 3), activation='relu')(l)\n",
        "l = MaxPooling2D(pool_size=(2, 2))(l)\n",
        "l = Conv2D(32, (3, 3),strides=(2,2),activation='relu',name='conv2d_2')(l)\n",
        "l = Conv2D(16, (3, 3),strides=(2,2),activation='relu')(l)\n",
        "l = Flatten()(l)\n",
        "#l = Dense(128, activation='relu')(l)\n",
        "l = Dense(32, activation='relu')(l)\n",
        "output_class = Dense(num_classes, activation='softmax')(l)\n",
        "model_pooled = Model(inputs=input_img, outputs=output_class)\n",
        "\n",
        "if not os.path.exists('./'+model_name):\n",
        "    os.mkdir(model_name)\n",
        "\n",
        "adam = Adam(lr=0.00001)\n",
        "model_pooled.compile(loss='categorical_crossentropy', \n",
        "              optimizer=adam, \n",
        "              metrics=['accuracy'])\n",
        "\n",
        "hist_613 = model_pooled.fit_generator(train_gen, epochs=epochs, steps_per_epoch=(len(train_files)//batch_size),\n",
        "                           validation_data=(vald,valt),validation_steps=(len(val_files)//batch_size),\n",
        "                           callbacks=callbacks, verbose=1)\n",
        "all_histories.append(hist_pooled)"
      ],
      "execution_count": 99,
      "outputs": [
        {
          "output_type": "stream",
          "text": [
            "Epoch 1/25\n",
            "703/703 [==============================] - 11s 15ms/step - loss: 2.2982 - acc: 0.1394 - val_loss: 2.2846 - val_acc: 0.1875\n",
            "\n",
            "Epoch 00001: val_loss did not improve from 0.90353\n",
            "Epoch 2/25\n",
            "703/703 [==============================] - 10s 14ms/step - loss: 2.2808 - acc: 0.1785 - val_loss: 2.2546 - val_acc: 0.1719\n",
            "\n",
            "Epoch 00002: val_loss did not improve from 0.90353\n",
            "Epoch 3/25\n",
            "703/703 [==============================] - 10s 14ms/step - loss: 2.2444 - acc: 0.1935 - val_loss: 2.1963 - val_acc: 0.2500\n",
            "\n",
            "Epoch 00003: val_loss did not improve from 0.90353\n",
            "Epoch 4/25\n",
            "703/703 [==============================] - 10s 14ms/step - loss: 2.1909 - acc: 0.2006 - val_loss: 2.1318 - val_acc: 0.2344\n",
            "\n",
            "Epoch 00004: val_loss did not improve from 0.90353\n",
            "Epoch 5/25\n",
            "703/703 [==============================] - 10s 14ms/step - loss: 2.1388 - acc: 0.2068 - val_loss: 2.0741 - val_acc: 0.2188\n",
            "\n",
            "Epoch 00005: val_loss did not improve from 0.90353\n",
            "Epoch 6/25\n",
            "703/703 [==============================] - 10s 14ms/step - loss: 2.0944 - acc: 0.2192 - val_loss: 2.0303 - val_acc: 0.2500\n",
            "\n",
            "Epoch 00006: val_loss did not improve from 0.90353\n",
            "Epoch 7/25\n",
            "703/703 [==============================] - 10s 14ms/step - loss: 2.0581 - acc: 0.2365 - val_loss: 1.9992 - val_acc: 0.2969\n",
            "\n",
            "Epoch 00007: val_loss did not improve from 0.90353\n",
            "Epoch 8/25\n",
            "703/703 [==============================] - 10s 14ms/step - loss: 2.0303 - acc: 0.2507 - val_loss: 1.9749 - val_acc: 0.2969\n",
            "\n",
            "Epoch 00008: val_loss did not improve from 0.90353\n",
            "Epoch 9/25\n",
            "703/703 [==============================] - 10s 14ms/step - loss: 2.0079 - acc: 0.2593 - val_loss: 1.9553 - val_acc: 0.2969\n",
            "\n",
            "Epoch 00009: val_loss did not improve from 0.90353\n",
            "Epoch 10/25\n",
            "703/703 [==============================] - 10s 14ms/step - loss: 1.9895 - acc: 0.2663 - val_loss: 1.9399 - val_acc: 0.2812\n",
            "\n",
            "Epoch 00010: val_loss did not improve from 0.90353\n",
            "Epoch 11/25\n",
            "703/703 [==============================] - 10s 14ms/step - loss: 1.9733 - acc: 0.2710 - val_loss: 1.9262 - val_acc: 0.2969\n",
            "\n",
            "Epoch 00011: val_loss did not improve from 0.90353\n",
            "Epoch 12/25\n",
            "703/703 [==============================] - 10s 14ms/step - loss: 1.9584 - acc: 0.2747 - val_loss: 1.9136 - val_acc: 0.3125\n",
            "\n",
            "Epoch 00012: val_loss did not improve from 0.90353\n",
            "Epoch 13/25\n",
            "703/703 [==============================] - 10s 14ms/step - loss: 1.9441 - acc: 0.2786 - val_loss: 1.9005 - val_acc: 0.3125\n",
            "\n",
            "Epoch 00013: val_loss did not improve from 0.90353\n",
            "Epoch 14/25\n",
            "703/703 [==============================] - 10s 14ms/step - loss: 1.9299 - acc: 0.2830 - val_loss: 1.8855 - val_acc: 0.3594\n",
            "\n",
            "Epoch 00014: val_loss did not improve from 0.90353\n",
            "Epoch 15/25\n",
            "703/703 [==============================] - 10s 14ms/step - loss: 1.9160 - acc: 0.2876 - val_loss: 1.8708 - val_acc: 0.3594\n",
            "\n",
            "Epoch 00015: val_loss did not improve from 0.90353\n",
            "Epoch 16/25\n",
            "703/703 [==============================] - 10s 14ms/step - loss: 1.9025 - acc: 0.2924 - val_loss: 1.8577 - val_acc: 0.3594\n",
            "\n",
            "Epoch 00016: val_loss did not improve from 0.90353\n",
            "Epoch 17/25\n",
            "703/703 [==============================] - 10s 15ms/step - loss: 1.8895 - acc: 0.2973 - val_loss: 1.8437 - val_acc: 0.3594\n",
            "\n",
            "Epoch 00017: val_loss did not improve from 0.90353\n",
            "Epoch 18/25\n",
            "703/703 [==============================] - 10s 14ms/step - loss: 1.8769 - acc: 0.3024 - val_loss: 1.8293 - val_acc: 0.3750\n",
            "\n",
            "Epoch 00018: val_loss did not improve from 0.90353\n",
            "Epoch 19/25\n",
            "703/703 [==============================] - 10s 14ms/step - loss: 1.8647 - acc: 0.3079 - val_loss: 1.8141 - val_acc: 0.3750\n",
            "\n",
            "Epoch 00019: val_loss did not improve from 0.90353\n",
            "Epoch 20/25\n",
            "703/703 [==============================] - 10s 14ms/step - loss: 1.8528 - acc: 0.3141 - val_loss: 1.7984 - val_acc: 0.3750\n",
            "\n",
            "Epoch 00020: val_loss did not improve from 0.90353\n",
            "Epoch 21/25\n",
            "703/703 [==============================] - 10s 14ms/step - loss: 1.8411 - acc: 0.3190 - val_loss: 1.7819 - val_acc: 0.3750\n",
            "\n",
            "Epoch 00021: val_loss did not improve from 0.90353\n",
            "Epoch 22/25\n",
            "703/703 [==============================] - 10s 14ms/step - loss: 1.8298 - acc: 0.3250 - val_loss: 1.7664 - val_acc: 0.3750\n",
            "\n",
            "Epoch 00022: val_loss did not improve from 0.90353\n",
            "Epoch 23/25\n",
            "703/703 [==============================] - 10s 14ms/step - loss: 1.8192 - acc: 0.3303 - val_loss: 1.7519 - val_acc: 0.3750\n",
            "\n",
            "Epoch 00023: val_loss did not improve from 0.90353\n",
            "Epoch 24/25\n",
            "703/703 [==============================] - 10s 14ms/step - loss: 1.8090 - acc: 0.3346 - val_loss: 1.7378 - val_acc: 0.4062\n",
            "\n",
            "Epoch 00024: val_loss did not improve from 0.90353\n",
            "Epoch 25/25\n",
            "703/703 [==============================] - 10s 14ms/step - loss: 1.7993 - acc: 0.3391 - val_loss: 1.7243 - val_acc: 0.4219\n",
            "\n",
            "Epoch 00025: val_loss did not improve from 0.90353\n"
          ],
          "name": "stdout"
        }
      ]
    },
    {
      "cell_type": "markdown",
      "metadata": {
        "id": "fxD5p0Llb9WM",
        "colab_type": "text"
      },
      "source": [
        "### Task 6.2 Plot loss and accuracy\n",
        "Plot the loss and accracy for best model selected in task 5.1, and model trained in 6.1.1, 6.1.2 and 6.1.3 task. Give the detailed analysis of the effect of learning rate in your words and select the best learning rate for this problem."
      ]
    },
    {
      "cell_type": "code",
      "metadata": {
        "id": "6Au-q-Kub9WO",
        "colab_type": "code",
        "colab": {
          "base_uri": "https://localhost:8080/",
          "height": 1000
        },
        "outputId": "9fb3b1e9-666b-40ec-a981-041fe3519af7"
      },
      "source": [
        "# Use plotHistory to make these plots\n",
        "nam=['model_pooling_6.1.1','model_pooling_6.1.2','model_pooling_6.1.3']\n",
        "all_histories1=[hist_611,hist_612,hist_613]\n",
        "plotHistory(all_histories1,nam,'val_acc')\n",
        "plotHistory(all_histories1,nam,'acc')\n",
        "plotHistory(all_histories1,nam,'val_loss')\n",
        "plotHistory(all_histories1,nam,'loss')"
      ],
      "execution_count": 100,
      "outputs": [
        {
          "output_type": "display_data",
          "data": {
            "image/png": "[encoded data removed]",
            "text/plain": [
              "<Figure size 576x396 with 1 Axes>"
            ]
          },
          "metadata": {
            "tags": []
          }
        },
        {
          "output_type": "display_data",
          "data": {
            "image/png": "[encoded data removed]",
            "text/plain": [
              "<Figure size 576x396 with 1 Axes>"
            ]
          },
          "metadata": {
            "tags": []
          }
        },
        {
          "output_type": "display_data",
          "data": {
            "image/png": "[encoded data removed]",
            "text/plain": [
              "<Figure size 576x396 with 1 Axes>"
            ]
          },
          "metadata": {
            "tags": []
          }
        },
        {
          "output_type": "display_data",
          "data": {
            "image/png": "[encoded data removed]",
            "text/plain": [
              "<Figure size 576x396 with 1 Axes>"
            ]
          },
          "metadata": {
            "tags": []
          }
        }
      ]
    },
    {
      "cell_type": "code",
      "metadata": {
        "id": "yYoxaIlkneNt",
        "colab_type": "code",
        "colab": {}
      },
      "source": [
        "!pip install -U -q PyDrive\n",
        "\n",
        "from google.colab import files\n",
        "from pydrive.auth import GoogleAuth\n",
        "from pydrive.drive import GoogleDrive\n",
        "from google.colab import auth\n",
        "from oauth2client.client import GoogleCredentials\n",
        "import zipfile\n",
        "import os\n",
        "import sys\n",
        "\n",
        "zipname = 'base_model'\n",
        "\n",
        "def zipfolder(foldername, target_dir):            \n",
        "    zipobj = zipfile.ZipFile(foldername + '.zip', 'w', zipfile.ZIP_DEFLATED)\n",
        "    rootlen = len(target_dir) + 1\n",
        "    for base, dirs, files in os.walk(target_dir):\n",
        "        for file in files:\n",
        "            fn = os.path.join(base, file)\n",
        "            zipobj.write(fn, fn[rootlen:])\n",
        "\n",
        "zipfolder(zipname, '/content/base_model')\n",
        "\n",
        "# 1. Authenticate and create the PyDrive client.\n",
        "auth.authenticate_user()\n",
        "gauth = GoogleAuth()\n",
        "gauth.credentials = GoogleCredentials.get_application_default()\n",
        "drive = GoogleDrive(gauth)\n",
        "\n",
        "# 2. Create & upload a file text file.\n",
        "file1 = drive.CreateFile()\n",
        "file1.SetContentFile(zipname+\".zip\")\n",
        "file1.Upload()"
      ],
      "execution_count": 0,
      "outputs": []
    },
    {
      "cell_type": "code",
      "metadata": {
        "id": "zCuZu58sn9eP",
        "colab_type": "code",
        "colab": {}
      },
      "source": [
        "zipname = 'model_batch_normalized'\n",
        "\n",
        "def zipfolder(foldername, target_dir):            \n",
        "    zipobj = zipfile.ZipFile(foldername + '.zip', 'w', zipfile.ZIP_DEFLATED)\n",
        "    rootlen = len(target_dir) + 1\n",
        "    for base, dirs, files in os.walk(target_dir):\n",
        "        for file in files:\n",
        "            fn = os.path.join(base, file)\n",
        "            zipobj.write(fn, fn[rootlen:])\n",
        "\n",
        "zipfolder(zipname, '/content/model_batch_normalized')\n",
        "\n",
        "# 1. Authenticate and create the PyDrive client.\n",
        "auth.authenticate_user()\n",
        "gauth = GoogleAuth()\n",
        "gauth.credentials = GoogleCredentials.get_application_default()\n",
        "drive = GoogleDrive(gauth)\n",
        "\n",
        "# 2. Create & upload a file text file.\n",
        "file1 = drive.CreateFile()\n",
        "file1.SetContentFile(zipname+\".zip\")\n",
        "file1.Upload()"
      ],
      "execution_count": 0,
      "outputs": []
    },
    {
      "cell_type": "code",
      "metadata": {
        "id": "BZVHwLCjohwc",
        "colab_type": "code",
        "colab": {}
      },
      "source": [
        "zipname = 'model_dropout'\n",
        "\n",
        "def zipfolder(foldername, target_dir):            \n",
        "    zipobj = zipfile.ZipFile(foldername + '.zip', 'w', zipfile.ZIP_DEFLATED)\n",
        "    rootlen = len(target_dir) + 1\n",
        "    for base, dirs, files in os.walk(target_dir):\n",
        "        for file in files:\n",
        "            fn = os.path.join(base, file)\n",
        "            zipobj.write(fn, fn[rootlen:])\n",
        "\n",
        "zipfolder(zipname, '/content/model_dropout')\n",
        "\n",
        "# 1. Authenticate and create the PyDrive client.\n",
        "auth.authenticate_user()\n",
        "gauth = GoogleAuth()\n",
        "gauth.credentials = GoogleCredentials.get_application_default()\n",
        "drive = GoogleDrive(gauth)\n",
        "\n",
        "# 2. Create & upload a file text file.\n",
        "file1 = drive.CreateFile()\n",
        "file1.SetContentFile(zipname+\".zip\")\n",
        "file1.Upload()"
      ],
      "execution_count": 0,
      "outputs": []
    },
    {
      "cell_type": "code",
      "metadata": {
        "id": "IXCo6r_qopgQ",
        "colab_type": "code",
        "colab": {}
      },
      "source": [
        "zipname = 'model_pooling'\n",
        "\n",
        "def zipfolder(foldername, target_dir):            \n",
        "    zipobj = zipfile.ZipFile(foldername + '.zip', 'w', zipfile.ZIP_DEFLATED)\n",
        "    rootlen = len(target_dir) + 1\n",
        "    for base, dirs, files in os.walk(target_dir):\n",
        "        for file in files:\n",
        "            fn = os.path.join(base, file)\n",
        "            zipobj.write(fn, fn[rootlen:])\n",
        "\n",
        "zipfolder(zipname, '/content/model_pooling')\n",
        "\n",
        "# 1. Authenticate and create the PyDrive client.\n",
        "auth.authenticate_user()\n",
        "gauth = GoogleAuth()\n",
        "gauth.credentials = GoogleCredentials.get_application_default()\n",
        "drive = GoogleDrive(gauth)\n",
        "\n",
        "# 2. Create & upload a file text file.\n",
        "file1 = drive.CreateFile()\n",
        "file1.SetContentFile(zipname+\".zip\")\n",
        "file1.Upload()"
      ],
      "execution_count": 0,
      "outputs": []
    },
    {
      "cell_type": "code",
      "metadata": {
        "id": "-eB6yKiHoyeL",
        "colab_type": "code",
        "colab": {}
      },
      "source": [
        "zipname = 'model_preprocessed_input'\n",
        "\n",
        "def zipfolder(foldername, target_dir):            \n",
        "    zipobj = zipfile.ZipFile(foldername + '.zip', 'w', zipfile.ZIP_DEFLATED)\n",
        "    rootlen = len(target_dir) + 1\n",
        "    for base, dirs, files in os.walk(target_dir):\n",
        "        for file in files:\n",
        "            fn = os.path.join(base, file)\n",
        "            zipobj.write(fn, fn[rootlen:])\n",
        "\n",
        "zipfolder(zipname, '/content/model_preprocessed_input')\n",
        "\n",
        "# 1. Authenticate and create the PyDrive client.\n",
        "auth.authenticate_user()\n",
        "gauth = GoogleAuth()\n",
        "gauth.credentials = GoogleCredentials.get_application_default()\n",
        "drive = GoogleDrive(gauth)\n",
        "\n",
        "# 2. Create & upload a file text file.\n",
        "file1 = drive.CreateFile()\n",
        "file1.SetContentFile(zipname+\".zip\")\n",
        "file1.Upload()"
      ],
      "execution_count": 0,
      "outputs": []
    },
    {
      "cell_type": "code",
      "metadata": {
        "id": "vL3CinItsfIT",
        "colab_type": "code",
        "colab": {}
      },
      "source": [
        "zipname = 'model_pooling_611'\n",
        "\n",
        "def zipfolder(foldername, target_dir):            \n",
        "    zipobj = zipfile.ZipFile(foldername + '.zip', 'w', zipfile.ZIP_DEFLATED)\n",
        "    rootlen = len(target_dir) + 1\n",
        "    for base, dirs, files in os.walk(target_dir):\n",
        "        for file in files:\n",
        "            fn = os.path.join(base, file)\n",
        "            zipobj.write(fn, fn[rootlen:])\n",
        "\n",
        "zipfolder(zipname, '/content/model_pooling_6.1.1')\n",
        "\n",
        "# 1. Authenticate and create the PyDrive client.\n",
        "auth.authenticate_user()\n",
        "gauth = GoogleAuth()\n",
        "gauth.credentials = GoogleCredentials.get_application_default()\n",
        "drive = GoogleDrive(gauth)\n",
        "\n",
        "# 2. Create & upload a file text file.\n",
        "file1 = drive.CreateFile()\n",
        "file1.SetContentFile(zipname+\".zip\")\n",
        "file1.Upload()"
      ],
      "execution_count": 0,
      "outputs": []
    },
    {
      "cell_type": "code",
      "metadata": {
        "id": "cvUEOB3NsoGw",
        "colab_type": "code",
        "colab": {}
      },
      "source": [
        "zipname = 'model_pooling_612'\n",
        "\n",
        "def zipfolder(foldername, target_dir):            \n",
        "    zipobj = zipfile.ZipFile(foldername + '.zip', 'w', zipfile.ZIP_DEFLATED)\n",
        "    rootlen = len(target_dir) + 1\n",
        "    for base, dirs, files in os.walk(target_dir):\n",
        "        for file in files:\n",
        "            fn = os.path.join(base, file)\n",
        "            zipobj.write(fn, fn[rootlen:])\n",
        "\n",
        "zipfolder(zipname, '/content/model_pooling_6.1.2')\n",
        "\n",
        "# 1. Authenticate and create the PyDrive client.\n",
        "auth.authenticate_user()\n",
        "gauth = GoogleAuth()\n",
        "gauth.credentials = GoogleCredentials.get_application_default()\n",
        "drive = GoogleDrive(gauth)\n",
        "\n",
        "# 2. Create & upload a file text file.\n",
        "file1 = drive.CreateFile()\n",
        "file1.SetContentFile(zipname+\".zip\")\n",
        "file1.Upload()"
      ],
      "execution_count": 0,
      "outputs": []
    },
    {
      "cell_type": "code",
      "metadata": {
        "id": "1RpyPqbcszXl",
        "colab_type": "code",
        "colab": {}
      },
      "source": [
        "zipname = 'model_pooling_613'\n",
        "\n",
        "def zipfolder(foldername, target_dir):            \n",
        "    zipobj = zipfile.ZipFile(foldername + '.zip', 'w', zipfile.ZIP_DEFLATED)\n",
        "    rootlen = len(target_dir) + 1\n",
        "    for base, dirs, files in os.walk(target_dir):\n",
        "        for file in files:\n",
        "            fn = os.path.join(base, file)\n",
        "            zipobj.write(fn, fn[rootlen:])\n",
        "\n",
        "zipfolder(zipname, '/content/model_pooling_6.1.3')\n",
        "\n",
        "# 1. Authenticate and create the PyDrive client.\n",
        "auth.authenticate_user()\n",
        "gauth = GoogleAuth()\n",
        "gauth.credentials = GoogleCredentials.get_application_default()\n",
        "drive = GoogleDrive(gauth)\n",
        "\n",
        "# 2. Create & upload a file text file.\n",
        "file1 = drive.CreateFile()\n",
        "file1.SetContentFile(zipname+\".zip\")\n",
        "file1.Upload()"
      ],
      "execution_count": 0,
      "outputs": []
    },
    {
      "cell_type": "markdown",
      "metadata": {
        "id": "nyAVExNib9WU",
        "colab_type": "text"
      },
      "source": [
        "Analysis:\n",
        "\n",
        "6.1.1\n",
        "Ans.When the learning rate is too high the val_loss,val_acc,acc and loss do not change very much. When the learning rate is set too high the model is unable to converge as in it is unable to find a minima in the gradient descent this is very apparent from the fact that the there is a constancy in the val_loss and other terms\n",
        "\n",
        "6.1.2\n",
        "again a similar thing happens as last part as we see that there is minimal change in val_loss and val_acc. the learning rate is too high and the model can't converge\n",
        "\n",
        "6.1.3\n",
        "we see that in this one the acc and val_acc improves but at a very slow rate. there is also a slow decreas in the loss too. we find that this learning rate is not optimal and while the model improves it takes too long."
      ]
    }
  ]
}